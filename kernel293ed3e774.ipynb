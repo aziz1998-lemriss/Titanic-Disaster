{
 "cells": [
  {
   "cell_type": "code",
   "execution_count": 1,
   "metadata": {
    "_cell_guid": "b1076dfc-b9ad-4769-8c92-a6c4dae69d19",
    "_uuid": "8f2839f25d086af736a60e9eeb907d3b93b6e0e5",
    "execution": {
     "iopub.execute_input": "2020-10-18T14:30:27.131233Z",
     "iopub.status.busy": "2020-10-18T14:30:27.130154Z",
     "iopub.status.idle": "2020-10-18T14:30:27.136941Z",
     "shell.execute_reply": "2020-10-18T14:30:27.137567Z"
    },
    "papermill": {
     "duration": 0.065117,
     "end_time": "2020-10-18T14:30:27.137745",
     "exception": false,
     "start_time": "2020-10-18T14:30:27.072628",
     "status": "completed"
    },
    "tags": []
   },
   "outputs": [
    {
     "name": "stdout",
     "output_type": "stream",
     "text": [
      "/kaggle/input/titanic/gender_submission.csv\n",
      "/kaggle/input/titanic/test.csv\n",
      "/kaggle/input/titanic/train.csv\n"
     ]
    }
   ],
   "source": [
    "# This Python 3 environment comes with many helpful analytics libraries installed\n",
    "# It is defined by the kaggle/python Docker image: https://github.com/kaggle/docker-python\n",
    "# For example, here's several helpful packages to load\n",
    "\n",
    "import numpy as np # linear algebra\n",
    "import pandas as pd # data processing, CSV file I/O (e.g. pd.read_csv)\n",
    "\n",
    "# Input data files are available in the read-only \"../input/\" directory\n",
    "# For example, running this (by clicking run or pressing Shift+Enter) will list all files under the input directory\n",
    "\n",
    "import os\n",
    "for dirname, _, filenames in os.walk('/kaggle/input'):\n",
    "    for filename in filenames:\n",
    "        print(os.path.join(dirname, filename))\n",
    "\n",
    "# You can write up to 5GB to the current directory (/kaggle/working/) that gets preserved as output when you create a version using \"Save & Run All\" \n",
    "# You can also write temporary files to /kaggle/temp/, but they won't be saved outside of the current session"
   ]
  },
  {
   "cell_type": "code",
   "execution_count": 2,
   "metadata": {
    "execution": {
     "iopub.execute_input": "2020-10-18T14:30:27.250156Z",
     "iopub.status.busy": "2020-10-18T14:30:27.249212Z",
     "iopub.status.idle": "2020-10-18T14:30:29.749088Z",
     "shell.execute_reply": "2020-10-18T14:30:29.749711Z"
    },
    "papermill": {
     "duration": 2.560728,
     "end_time": "2020-10-18T14:30:29.749912",
     "exception": false,
     "start_time": "2020-10-18T14:30:27.189184",
     "status": "completed"
    },
    "tags": []
   },
   "outputs": [],
   "source": [
    "import pandas as pd\n",
    "import numpy as np\n",
    "import matplotlib.pyplot as plt\n",
    "import seaborn as sns\n",
    "import matplotlib.patches as mpatches\n",
    "from sklearn.preprocessing import LabelEncoder , StandardScaler\n",
    "from scipy.stats import skew\n",
    "from scipy.special import boxcox1p\n",
    "from scipy.stats import boxcox_normmax\n",
    "import statsmodels.api as sm\n",
    "from sklearn.manifold import TSNE\n",
    "from sklearn.decomposition import PCA, TruncatedSVD\n",
    "from sklearn.preprocessing import StandardScaler\n",
    "from sklearn.model_selection import train_test_split, GridSearchCV, RandomizedSearchCV\n",
    "from sklearn.linear_model import LogisticRegression\n",
    "from sklearn.svm import SVC\n",
    "from sklearn.neighbors import KNeighborsClassifier\n",
    "from sklearn.ensemble import RandomForestClassifier\n",
    "from sklearn.tree import DecisionTreeClassifier\n",
    "from xgboost import XGBClassifier\n",
    "import lightgbm as lgb\n",
    "from sklearn.metrics import accuracy_score, roc_auc_score, roc_curve, plot_roc_curve"
   ]
  },
  {
   "cell_type": "code",
   "execution_count": 3,
   "metadata": {
    "_cell_guid": "79c7e3d0-c299-4dcb-8224-4455121ee9b0",
    "_uuid": "d629ff2d2480ee46fbb7e2d37f6b5fab8052498a",
    "execution": {
     "iopub.execute_input": "2020-10-18T14:30:29.904957Z",
     "iopub.status.busy": "2020-10-18T14:30:29.903901Z",
     "iopub.status.idle": "2020-10-18T14:30:29.928552Z",
     "shell.execute_reply": "2020-10-18T14:30:29.929416Z"
    },
    "papermill": {
     "duration": 0.107439,
     "end_time": "2020-10-18T14:30:29.929650",
     "exception": false,
     "start_time": "2020-10-18T14:30:29.822211",
     "status": "completed"
    },
    "tags": []
   },
   "outputs": [],
   "source": [
    "train = pd.read_csv(\"../input/titanic/train.csv\")\n",
    "test = pd.read_csv(\"../input/titanic/test.csv\")"
   ]
  },
  {
   "cell_type": "code",
   "execution_count": 4,
   "metadata": {
    "execution": {
     "iopub.execute_input": "2020-10-18T14:30:30.077659Z",
     "iopub.status.busy": "2020-10-18T14:30:30.076642Z",
     "iopub.status.idle": "2020-10-18T14:30:30.084027Z",
     "shell.execute_reply": "2020-10-18T14:30:30.084782Z"
    },
    "papermill": {
     "duration": 0.084804,
     "end_time": "2020-10-18T14:30:30.084993",
     "exception": false,
     "start_time": "2020-10-18T14:30:30.000189",
     "status": "completed"
    },
    "tags": []
   },
   "outputs": [],
   "source": [
    "g = test['PassengerId']"
   ]
  },
  {
   "cell_type": "code",
   "execution_count": 5,
   "metadata": {
    "execution": {
     "iopub.execute_input": "2020-10-18T14:30:30.237860Z",
     "iopub.status.busy": "2020-10-18T14:30:30.236811Z",
     "iopub.status.idle": "2020-10-18T14:30:30.246081Z",
     "shell.execute_reply": "2020-10-18T14:30:30.246884Z"
    },
    "papermill": {
     "duration": 0.091917,
     "end_time": "2020-10-18T14:30:30.247085",
     "exception": false,
     "start_time": "2020-10-18T14:30:30.155168",
     "status": "completed"
    },
    "tags": []
   },
   "outputs": [
    {
     "data": {
      "text/plain": [
       "0    892\n",
       "1    893\n",
       "2    894\n",
       "3    895\n",
       "4    896\n",
       "Name: PassengerId, dtype: int64"
      ]
     },
     "execution_count": 5,
     "metadata": {},
     "output_type": "execute_result"
    }
   ],
   "source": [
    "g.head()"
   ]
  },
  {
   "cell_type": "code",
   "execution_count": 6,
   "metadata": {
    "execution": {
     "iopub.execute_input": "2020-10-18T14:30:30.398415Z",
     "iopub.status.busy": "2020-10-18T14:30:30.397419Z",
     "iopub.status.idle": "2020-10-18T14:30:30.428121Z",
     "shell.execute_reply": "2020-10-18T14:30:30.429586Z"
    },
    "papermill": {
     "duration": 0.111809,
     "end_time": "2020-10-18T14:30:30.429825",
     "exception": false,
     "start_time": "2020-10-18T14:30:30.318016",
     "status": "completed"
    },
    "tags": []
   },
   "outputs": [
    {
     "data": {
      "text/html": [
       "<div>\n",
       "<style scoped>\n",
       "    .dataframe tbody tr th:only-of-type {\n",
       "        vertical-align: middle;\n",
       "    }\n",
       "\n",
       "    .dataframe tbody tr th {\n",
       "        vertical-align: top;\n",
       "    }\n",
       "\n",
       "    .dataframe thead th {\n",
       "        text-align: right;\n",
       "    }\n",
       "</style>\n",
       "<table border=\"1\" class=\"dataframe\">\n",
       "  <thead>\n",
       "    <tr style=\"text-align: right;\">\n",
       "      <th></th>\n",
       "      <th>PassengerId</th>\n",
       "      <th>Survived</th>\n",
       "      <th>Pclass</th>\n",
       "      <th>Name</th>\n",
       "      <th>Sex</th>\n",
       "      <th>Age</th>\n",
       "      <th>SibSp</th>\n",
       "      <th>Parch</th>\n",
       "      <th>Ticket</th>\n",
       "      <th>Fare</th>\n",
       "      <th>Cabin</th>\n",
       "      <th>Embarked</th>\n",
       "    </tr>\n",
       "  </thead>\n",
       "  <tbody>\n",
       "    <tr>\n",
       "      <th>0</th>\n",
       "      <td>1</td>\n",
       "      <td>0</td>\n",
       "      <td>3</td>\n",
       "      <td>Braund, Mr. Owen Harris</td>\n",
       "      <td>male</td>\n",
       "      <td>22.0</td>\n",
       "      <td>1</td>\n",
       "      <td>0</td>\n",
       "      <td>A/5 21171</td>\n",
       "      <td>7.2500</td>\n",
       "      <td>NaN</td>\n",
       "      <td>S</td>\n",
       "    </tr>\n",
       "    <tr>\n",
       "      <th>1</th>\n",
       "      <td>2</td>\n",
       "      <td>1</td>\n",
       "      <td>1</td>\n",
       "      <td>Cumings, Mrs. John Bradley (Florence Briggs Th...</td>\n",
       "      <td>female</td>\n",
       "      <td>38.0</td>\n",
       "      <td>1</td>\n",
       "      <td>0</td>\n",
       "      <td>PC 17599</td>\n",
       "      <td>71.2833</td>\n",
       "      <td>C85</td>\n",
       "      <td>C</td>\n",
       "    </tr>\n",
       "    <tr>\n",
       "      <th>2</th>\n",
       "      <td>3</td>\n",
       "      <td>1</td>\n",
       "      <td>3</td>\n",
       "      <td>Heikkinen, Miss. Laina</td>\n",
       "      <td>female</td>\n",
       "      <td>26.0</td>\n",
       "      <td>0</td>\n",
       "      <td>0</td>\n",
       "      <td>STON/O2. 3101282</td>\n",
       "      <td>7.9250</td>\n",
       "      <td>NaN</td>\n",
       "      <td>S</td>\n",
       "    </tr>\n",
       "    <tr>\n",
       "      <th>3</th>\n",
       "      <td>4</td>\n",
       "      <td>1</td>\n",
       "      <td>1</td>\n",
       "      <td>Futrelle, Mrs. Jacques Heath (Lily May Peel)</td>\n",
       "      <td>female</td>\n",
       "      <td>35.0</td>\n",
       "      <td>1</td>\n",
       "      <td>0</td>\n",
       "      <td>113803</td>\n",
       "      <td>53.1000</td>\n",
       "      <td>C123</td>\n",
       "      <td>S</td>\n",
       "    </tr>\n",
       "    <tr>\n",
       "      <th>4</th>\n",
       "      <td>5</td>\n",
       "      <td>0</td>\n",
       "      <td>3</td>\n",
       "      <td>Allen, Mr. William Henry</td>\n",
       "      <td>male</td>\n",
       "      <td>35.0</td>\n",
       "      <td>0</td>\n",
       "      <td>0</td>\n",
       "      <td>373450</td>\n",
       "      <td>8.0500</td>\n",
       "      <td>NaN</td>\n",
       "      <td>S</td>\n",
       "    </tr>\n",
       "  </tbody>\n",
       "</table>\n",
       "</div>"
      ],
      "text/plain": [
       "   PassengerId  Survived  Pclass  \\\n",
       "0            1         0       3   \n",
       "1            2         1       1   \n",
       "2            3         1       3   \n",
       "3            4         1       1   \n",
       "4            5         0       3   \n",
       "\n",
       "                                                Name     Sex   Age  SibSp  \\\n",
       "0                            Braund, Mr. Owen Harris    male  22.0      1   \n",
       "1  Cumings, Mrs. John Bradley (Florence Briggs Th...  female  38.0      1   \n",
       "2                             Heikkinen, Miss. Laina  female  26.0      0   \n",
       "3       Futrelle, Mrs. Jacques Heath (Lily May Peel)  female  35.0      1   \n",
       "4                           Allen, Mr. William Henry    male  35.0      0   \n",
       "\n",
       "   Parch            Ticket     Fare Cabin Embarked  \n",
       "0      0         A/5 21171   7.2500   NaN        S  \n",
       "1      0          PC 17599  71.2833   C85        C  \n",
       "2      0  STON/O2. 3101282   7.9250   NaN        S  \n",
       "3      0            113803  53.1000  C123        S  \n",
       "4      0            373450   8.0500   NaN        S  "
      ]
     },
     "execution_count": 6,
     "metadata": {},
     "output_type": "execute_result"
    }
   ],
   "source": [
    "train.head()"
   ]
  },
  {
   "cell_type": "code",
   "execution_count": 7,
   "metadata": {
    "execution": {
     "iopub.execute_input": "2020-10-18T14:30:30.593524Z",
     "iopub.status.busy": "2020-10-18T14:30:30.591259Z",
     "iopub.status.idle": "2020-10-18T14:30:30.596667Z",
     "shell.execute_reply": "2020-10-18T14:30:30.595979Z"
    },
    "papermill": {
     "duration": 0.069779,
     "end_time": "2020-10-18T14:30:30.596818",
     "exception": false,
     "start_time": "2020-10-18T14:30:30.527039",
     "status": "completed"
    },
    "tags": []
   },
   "outputs": [
    {
     "data": {
      "text/plain": [
       "(891, 12)"
      ]
     },
     "execution_count": 7,
     "metadata": {},
     "output_type": "execute_result"
    }
   ],
   "source": [
    "train.shape"
   ]
  },
  {
   "cell_type": "code",
   "execution_count": 8,
   "metadata": {
    "execution": {
     "iopub.execute_input": "2020-10-18T14:30:30.719626Z",
     "iopub.status.busy": "2020-10-18T14:30:30.718584Z",
     "iopub.status.idle": "2020-10-18T14:30:30.722778Z",
     "shell.execute_reply": "2020-10-18T14:30:30.723409Z"
    },
    "papermill": {
     "duration": 0.068918,
     "end_time": "2020-10-18T14:30:30.723593",
     "exception": false,
     "start_time": "2020-10-18T14:30:30.654675",
     "status": "completed"
    },
    "tags": []
   },
   "outputs": [
    {
     "data": {
      "text/plain": [
       "Index(['PassengerId', 'Survived', 'Pclass', 'Name', 'Sex', 'Age', 'SibSp',\n",
       "       'Parch', 'Ticket', 'Fare', 'Cabin', 'Embarked'],\n",
       "      dtype='object')"
      ]
     },
     "execution_count": 8,
     "metadata": {},
     "output_type": "execute_result"
    }
   ],
   "source": [
    "train.columns"
   ]
  },
  {
   "cell_type": "code",
   "execution_count": 9,
   "metadata": {
    "execution": {
     "iopub.execute_input": "2020-10-18T14:30:30.853047Z",
     "iopub.status.busy": "2020-10-18T14:30:30.851486Z",
     "iopub.status.idle": "2020-10-18T14:30:30.856235Z",
     "shell.execute_reply": "2020-10-18T14:30:30.856861Z"
    },
    "papermill": {
     "duration": 0.074932,
     "end_time": "2020-10-18T14:30:30.857018",
     "exception": false,
     "start_time": "2020-10-18T14:30:30.782086",
     "status": "completed"
    },
    "tags": []
   },
   "outputs": [
    {
     "data": {
      "text/plain": [
       "PassengerId      0\n",
       "Survived         0\n",
       "Pclass           0\n",
       "Name             0\n",
       "Sex              0\n",
       "Age            177\n",
       "SibSp            0\n",
       "Parch            0\n",
       "Ticket           0\n",
       "Fare             0\n",
       "Cabin          687\n",
       "Embarked         2\n",
       "dtype: int64"
      ]
     },
     "execution_count": 9,
     "metadata": {},
     "output_type": "execute_result"
    }
   ],
   "source": [
    "train.isnull().sum()"
   ]
  },
  {
   "cell_type": "code",
   "execution_count": 10,
   "metadata": {
    "execution": {
     "iopub.execute_input": "2020-10-18T14:30:30.986321Z",
     "iopub.status.busy": "2020-10-18T14:30:30.985145Z",
     "iopub.status.idle": "2020-10-18T14:30:30.998900Z",
     "shell.execute_reply": "2020-10-18T14:30:30.999563Z"
    },
    "papermill": {
     "duration": 0.083667,
     "end_time": "2020-10-18T14:30:30.999733",
     "exception": false,
     "start_time": "2020-10-18T14:30:30.916066",
     "status": "completed"
    },
    "tags": []
   },
   "outputs": [
    {
     "name": "stdout",
     "output_type": "stream",
     "text": [
      "<class 'pandas.core.frame.DataFrame'>\n",
      "RangeIndex: 891 entries, 0 to 890\n",
      "Data columns (total 12 columns):\n",
      " #   Column       Non-Null Count  Dtype  \n",
      "---  ------       --------------  -----  \n",
      " 0   PassengerId  891 non-null    int64  \n",
      " 1   Survived     891 non-null    int64  \n",
      " 2   Pclass       891 non-null    int64  \n",
      " 3   Name         891 non-null    object \n",
      " 4   Sex          891 non-null    object \n",
      " 5   Age          714 non-null    float64\n",
      " 6   SibSp        891 non-null    int64  \n",
      " 7   Parch        891 non-null    int64  \n",
      " 8   Ticket       891 non-null    object \n",
      " 9   Fare         891 non-null    float64\n",
      " 10  Cabin        204 non-null    object \n",
      " 11  Embarked     889 non-null    object \n",
      "dtypes: float64(2), int64(5), object(5)\n",
      "memory usage: 83.7+ KB\n"
     ]
    }
   ],
   "source": [
    "train.info()"
   ]
  },
  {
   "cell_type": "code",
   "execution_count": 11,
   "metadata": {
    "execution": {
     "iopub.execute_input": "2020-10-18T14:30:31.115435Z",
     "iopub.status.busy": "2020-10-18T14:30:31.114639Z",
     "iopub.status.idle": "2020-10-18T14:30:31.118031Z",
     "shell.execute_reply": "2020-10-18T14:30:31.117438Z"
    },
    "papermill": {
     "duration": 0.062953,
     "end_time": "2020-10-18T14:30:31.118162",
     "exception": false,
     "start_time": "2020-10-18T14:30:31.055209",
     "status": "completed"
    },
    "tags": []
   },
   "outputs": [],
   "source": [
    "def changer(cabin):\n",
    "    if pd.isnull(cabin) :\n",
    "            category = 'Unkonwn'\n",
    "    else :\n",
    "            category = cabin[0]\n",
    "    return(category)"
   ]
  },
  {
   "cell_type": "code",
   "execution_count": 12,
   "metadata": {
    "execution": {
     "iopub.execute_input": "2020-10-18T14:30:31.232817Z",
     "iopub.status.busy": "2020-10-18T14:30:31.231885Z",
     "iopub.status.idle": "2020-10-18T14:30:31.236035Z",
     "shell.execute_reply": "2020-10-18T14:30:31.235455Z"
    },
    "papermill": {
     "duration": 0.064934,
     "end_time": "2020-10-18T14:30:31.236168",
     "exception": false,
     "start_time": "2020-10-18T14:30:31.171234",
     "status": "completed"
    },
    "tags": []
   },
   "outputs": [],
   "source": [
    "def change_age(moyen_age, data, title_list):\n",
    "    for title in title_list:\n",
    "        p = data['Title'] == title \n",
    "        data.loc[p, 'Age'] = data.loc[p, 'Age'].fillna(moyen_age[title]) "
   ]
  },
  {
   "cell_type": "code",
   "execution_count": 13,
   "metadata": {
    "execution": {
     "iopub.execute_input": "2020-10-18T14:30:31.348363Z",
     "iopub.status.busy": "2020-10-18T14:30:31.347655Z",
     "iopub.status.idle": "2020-10-18T14:30:31.352466Z",
     "shell.execute_reply": "2020-10-18T14:30:31.351899Z"
    },
    "papermill": {
     "duration": 0.062996,
     "end_time": "2020-10-18T14:30:31.352613",
     "exception": false,
     "start_time": "2020-10-18T14:30:31.289617",
     "status": "completed"
    },
    "tags": []
   },
   "outputs": [],
   "source": [
    "Fare = train['Fare']\n",
    "Age  = train['Age']"
   ]
  },
  {
   "cell_type": "code",
   "execution_count": 14,
   "metadata": {
    "execution": {
     "iopub.execute_input": "2020-10-18T14:30:31.482424Z",
     "iopub.status.busy": "2020-10-18T14:30:31.480240Z",
     "iopub.status.idle": "2020-10-18T14:30:31.483247Z",
     "shell.execute_reply": "2020-10-18T14:30:31.483812Z"
    },
    "papermill": {
     "duration": 0.078011,
     "end_time": "2020-10-18T14:30:31.483965",
     "exception": false,
     "start_time": "2020-10-18T14:30:31.405954",
     "status": "completed"
    },
    "tags": []
   },
   "outputs": [],
   "source": [
    "def pre(dataframe):\n",
    "    dataframe.drop(['Ticket','PassengerId'], 1, inplace=True)\n",
    "    dataframe['Cabin'] = pd.DataFrame([changer(cabin) for cabin in dataframe['Cabin'].values])\n",
    "    dataframe['FamSize'] = dataframe['SibSp']+dataframe['Parch']+1\n",
    "    dataframe.drop(['SibSp','Parch'], 1, inplace=True)\n",
    "    dataframe['Title'] = dataframe.Name.str.extract(' ([A-Za-z]+)\\.', expand=False)\n",
    "    dataframe.drop(['Name'], 1, inplace=True)\n",
    "    y =['Dr', 'Rev', 'Col', 'Major', 'Countess', 'Sir', 'Jonkheer', 'Lady', 'Capt', 'Don', 'Dona']\n",
    "    for i in y :\n",
    "      dataframe['Title'] = dataframe['Title'].replace(i, 'Others')\n",
    "      dataframe['Title'] = dataframe['Title'].replace('Ms', 'Miss')\n",
    "      dataframe['Title'] = dataframe['Title'].replace('Mme', 'Mrs')\n",
    "      dataframe['Title'] = dataframe['Title'].replace('Mlle', 'Miss')\n",
    "    dataframe['Embarked']=dataframe['Embarked'].fillna('S')\n",
    "    M = dataframe.groupby('Title')['Age'].mean()\n",
    "    title = ['Master','Miss','Mr','Mrs','Others']\n",
    "    change_age(M, dataframe, title)\n",
    "    df =pd.get_dummies(dataframe[['Embarked','Title']], drop_first=True)\n",
    "    for i in df.columns : \n",
    "         dataframe[i] = df[i]\n",
    "    dataframe.drop(['Embarked','Title'], 1, inplace=True)\n",
    "    dataframe['log(Fare)+1'] = (dataframe['Fare']+1).transform(np.log)\n",
    "    dataframe['log(Age)+1'] = (dataframe['Age']+1).transform(np.log)\n",
    "    dataframe.drop(['Age','Fare'], 1, inplace=True)\n",
    "    return(dataframe)"
   ]
  },
  {
   "cell_type": "code",
   "execution_count": 15,
   "metadata": {
    "execution": {
     "iopub.execute_input": "2020-10-18T14:30:31.606306Z",
     "iopub.status.busy": "2020-10-18T14:30:31.605073Z",
     "iopub.status.idle": "2020-10-18T14:30:31.671753Z",
     "shell.execute_reply": "2020-10-18T14:30:31.671130Z"
    },
    "papermill": {
     "duration": 0.133847,
     "end_time": "2020-10-18T14:30:31.671887",
     "exception": false,
     "start_time": "2020-10-18T14:30:31.538040",
     "status": "completed"
    },
    "tags": []
   },
   "outputs": [],
   "source": [
    "data= pre(train)"
   ]
  },
  {
   "cell_type": "code",
   "execution_count": 16,
   "metadata": {
    "execution": {
     "iopub.execute_input": "2020-10-18T14:30:31.788348Z",
     "iopub.status.busy": "2020-10-18T14:30:31.787455Z",
     "iopub.status.idle": "2020-10-18T14:30:31.791897Z",
     "shell.execute_reply": "2020-10-18T14:30:31.791304Z"
    },
    "papermill": {
     "duration": 0.066302,
     "end_time": "2020-10-18T14:30:31.792024",
     "exception": false,
     "start_time": "2020-10-18T14:30:31.725722",
     "status": "completed"
    },
    "tags": []
   },
   "outputs": [],
   "source": [
    "le1 = LabelEncoder()\n",
    "le2 = LabelEncoder()\n",
    "data['Cabin'] = le1.fit_transform(data['Cabin'])\n",
    "data['Sex'] = le2.fit_transform(data['Sex'])"
   ]
  },
  {
   "cell_type": "code",
   "execution_count": 17,
   "metadata": {
    "execution": {
     "iopub.execute_input": "2020-10-18T14:30:31.910781Z",
     "iopub.status.busy": "2020-10-18T14:30:31.905292Z",
     "iopub.status.idle": "2020-10-18T14:30:31.923800Z",
     "shell.execute_reply": "2020-10-18T14:30:31.924411Z"
    },
    "papermill": {
     "duration": 0.07843,
     "end_time": "2020-10-18T14:30:31.924598",
     "exception": false,
     "start_time": "2020-10-18T14:30:31.846168",
     "status": "completed"
    },
    "tags": []
   },
   "outputs": [
    {
     "data": {
      "text/html": [
       "<div>\n",
       "<style scoped>\n",
       "    .dataframe tbody tr th:only-of-type {\n",
       "        vertical-align: middle;\n",
       "    }\n",
       "\n",
       "    .dataframe tbody tr th {\n",
       "        vertical-align: top;\n",
       "    }\n",
       "\n",
       "    .dataframe thead th {\n",
       "        text-align: right;\n",
       "    }\n",
       "</style>\n",
       "<table border=\"1\" class=\"dataframe\">\n",
       "  <thead>\n",
       "    <tr style=\"text-align: right;\">\n",
       "      <th></th>\n",
       "      <th>Survived</th>\n",
       "      <th>Pclass</th>\n",
       "      <th>Sex</th>\n",
       "      <th>Cabin</th>\n",
       "      <th>FamSize</th>\n",
       "      <th>Embarked_Q</th>\n",
       "      <th>Embarked_S</th>\n",
       "      <th>Title_Miss</th>\n",
       "      <th>Title_Mr</th>\n",
       "      <th>Title_Mrs</th>\n",
       "      <th>Title_Others</th>\n",
       "      <th>log(Fare)+1</th>\n",
       "      <th>log(Age)+1</th>\n",
       "    </tr>\n",
       "  </thead>\n",
       "  <tbody>\n",
       "    <tr>\n",
       "      <th>0</th>\n",
       "      <td>0</td>\n",
       "      <td>3</td>\n",
       "      <td>1</td>\n",
       "      <td>8</td>\n",
       "      <td>2</td>\n",
       "      <td>0</td>\n",
       "      <td>1</td>\n",
       "      <td>0</td>\n",
       "      <td>1</td>\n",
       "      <td>0</td>\n",
       "      <td>0</td>\n",
       "      <td>2.110213</td>\n",
       "      <td>3.135494</td>\n",
       "    </tr>\n",
       "    <tr>\n",
       "      <th>1</th>\n",
       "      <td>1</td>\n",
       "      <td>1</td>\n",
       "      <td>0</td>\n",
       "      <td>2</td>\n",
       "      <td>2</td>\n",
       "      <td>0</td>\n",
       "      <td>0</td>\n",
       "      <td>0</td>\n",
       "      <td>0</td>\n",
       "      <td>1</td>\n",
       "      <td>0</td>\n",
       "      <td>4.280593</td>\n",
       "      <td>3.663562</td>\n",
       "    </tr>\n",
       "    <tr>\n",
       "      <th>2</th>\n",
       "      <td>1</td>\n",
       "      <td>3</td>\n",
       "      <td>0</td>\n",
       "      <td>8</td>\n",
       "      <td>1</td>\n",
       "      <td>0</td>\n",
       "      <td>1</td>\n",
       "      <td>1</td>\n",
       "      <td>0</td>\n",
       "      <td>0</td>\n",
       "      <td>0</td>\n",
       "      <td>2.188856</td>\n",
       "      <td>3.295837</td>\n",
       "    </tr>\n",
       "    <tr>\n",
       "      <th>3</th>\n",
       "      <td>1</td>\n",
       "      <td>1</td>\n",
       "      <td>0</td>\n",
       "      <td>2</td>\n",
       "      <td>2</td>\n",
       "      <td>0</td>\n",
       "      <td>1</td>\n",
       "      <td>0</td>\n",
       "      <td>0</td>\n",
       "      <td>1</td>\n",
       "      <td>0</td>\n",
       "      <td>3.990834</td>\n",
       "      <td>3.583519</td>\n",
       "    </tr>\n",
       "    <tr>\n",
       "      <th>4</th>\n",
       "      <td>0</td>\n",
       "      <td>3</td>\n",
       "      <td>1</td>\n",
       "      <td>8</td>\n",
       "      <td>1</td>\n",
       "      <td>0</td>\n",
       "      <td>1</td>\n",
       "      <td>0</td>\n",
       "      <td>1</td>\n",
       "      <td>0</td>\n",
       "      <td>0</td>\n",
       "      <td>2.202765</td>\n",
       "      <td>3.583519</td>\n",
       "    </tr>\n",
       "  </tbody>\n",
       "</table>\n",
       "</div>"
      ],
      "text/plain": [
       "   Survived  Pclass  Sex  Cabin  FamSize  Embarked_Q  Embarked_S  Title_Miss  \\\n",
       "0         0       3    1      8        2           0           1           0   \n",
       "1         1       1    0      2        2           0           0           0   \n",
       "2         1       3    0      8        1           0           1           1   \n",
       "3         1       1    0      2        2           0           1           0   \n",
       "4         0       3    1      8        1           0           1           0   \n",
       "\n",
       "   Title_Mr  Title_Mrs  Title_Others  log(Fare)+1  log(Age)+1  \n",
       "0         1          0             0     2.110213    3.135494  \n",
       "1         0          1             0     4.280593    3.663562  \n",
       "2         0          0             0     2.188856    3.295837  \n",
       "3         0          1             0     3.990834    3.583519  \n",
       "4         1          0             0     2.202765    3.583519  "
      ]
     },
     "execution_count": 17,
     "metadata": {},
     "output_type": "execute_result"
    }
   ],
   "source": [
    "data.head()"
   ]
  },
  {
   "cell_type": "code",
   "execution_count": 18,
   "metadata": {
    "execution": {
     "iopub.execute_input": "2020-10-18T14:30:32.049432Z",
     "iopub.status.busy": "2020-10-18T14:30:32.048626Z",
     "iopub.status.idle": "2020-10-18T14:30:32.737404Z",
     "shell.execute_reply": "2020-10-18T14:30:32.736689Z"
    },
    "papermill": {
     "duration": 0.7505,
     "end_time": "2020-10-18T14:30:32.737592",
     "exception": false,
     "start_time": "2020-10-18T14:30:31.987092",
     "status": "completed"
    },
    "tags": []
   },
   "outputs": [
    {
     "data": {
      "text/plain": [
       "Text(0.5, 0, 'Log Fare')"
      ]
     },
     "execution_count": 18,
     "metadata": {},
     "output_type": "execute_result"
    },
    {
     "data": {
      "image/png": "[encoded data removed]",
      "text/plain": [
       "<Figure size 576x720 with 2 Axes>"
      ]
     },
     "metadata": {
      "needs_background": "light"
     },
     "output_type": "display_data"
    }
   ],
   "source": [
    "plt.rcParams['figure.figsize'] = (8.0, 10.0)\n",
    "\n",
    "plt.subplot(1, 2, 1)\n",
    "sns.distplot(Fare, kde=False)\n",
    "\n",
    "plt.subplot(1, 2, 2)\n",
    "sns.distplot(np.log(Fare + 1), kde=False)\n",
    "plt.xlabel('Log Fare')"
   ]
  },
  {
   "cell_type": "code",
   "execution_count": 19,
   "metadata": {
    "execution": {
     "iopub.execute_input": "2020-10-18T14:30:32.880350Z",
     "iopub.status.busy": "2020-10-18T14:30:32.874123Z",
     "iopub.status.idle": "2020-10-18T14:30:33.298755Z",
     "shell.execute_reply": "2020-10-18T14:30:33.299390Z"
    },
    "papermill": {
     "duration": 0.490572,
     "end_time": "2020-10-18T14:30:33.299575",
     "exception": false,
     "start_time": "2020-10-18T14:30:32.809003",
     "status": "completed"
    },
    "tags": []
   },
   "outputs": [
    {
     "data": {
      "text/plain": [
       "Text(0.5, 0, 'Log Age')"
      ]
     },
     "execution_count": 19,
     "metadata": {},
     "output_type": "execute_result"
    },
    {
     "data": {
      "image/png": "[encoded data removed]",
      "text/plain": [
       "<Figure size 576x720 with 2 Axes>"
      ]
     },
     "metadata": {
      "needs_background": "light"
     },
     "output_type": "display_data"
    }
   ],
   "source": [
    "plt.rcParams['figure.figsize'] = (8.0, 10.0)\n",
    "\n",
    "plt.subplot(1, 2, 1)\n",
    "sns.distplot(Age, kde=False)\n",
    "\n",
    "plt.subplot(1, 2, 2)\n",
    "sns.distplot(np.log(Age + 1), kde=False)\n",
    "plt.xlabel('Log Age')"
   ]
  },
  {
   "cell_type": "code",
   "execution_count": 20,
   "metadata": {
    "execution": {
     "iopub.execute_input": "2020-10-18T14:30:33.438360Z",
     "iopub.status.busy": "2020-10-18T14:30:33.437398Z",
     "iopub.status.idle": "2020-10-18T14:30:34.539271Z",
     "shell.execute_reply": "2020-10-18T14:30:34.539925Z"
    },
    "papermill": {
     "duration": 1.175321,
     "end_time": "2020-10-18T14:30:34.540092",
     "exception": false,
     "start_time": "2020-10-18T14:30:33.364771",
     "status": "completed"
    },
    "tags": []
   },
   "outputs": [
    {
     "data": {
      "image/png": "[encoded data removed]",
      "text/plain": [
       "<Figure size 2160x1440 with 2 Axes>"
      ]
     },
     "metadata": {
      "needs_background": "light"
     },
     "output_type": "display_data"
    }
   ],
   "source": [
    "plt.rcParams['figure.figsize'] = (30, 20)\n",
    "sns.heatmap(data.corr(), annot = True)\n",
    "\n",
    "plt.title('Histogram of the Dataset', fontsize = 30)\n",
    "plt.show()"
   ]
  },
  {
   "cell_type": "code",
   "execution_count": 21,
   "metadata": {
    "execution": {
     "iopub.execute_input": "2020-10-18T14:30:34.677338Z",
     "iopub.status.busy": "2020-10-18T14:30:34.670136Z",
     "iopub.status.idle": "2020-10-18T14:30:34.870951Z",
     "shell.execute_reply": "2020-10-18T14:30:34.871544Z"
    },
    "papermill": {
     "duration": 0.269636,
     "end_time": "2020-10-18T14:30:34.871698",
     "exception": false,
     "start_time": "2020-10-18T14:30:34.602062",
     "status": "completed"
    },
    "tags": []
   },
   "outputs": [
    {
     "data": {
      "image/png": "[encoded data removed]",
      "text/plain": [
       "<Figure size 720x576 with 1 Axes>"
      ]
     },
     "metadata": {
      "needs_background": "light"
     },
     "output_type": "display_data"
    }
   ],
   "source": [
    "plt.rcParams['figure.figsize'] = (10, 8)\n",
    "plt.scatter(data['log(Fare)+1'] ,data['log(Age)+1'] ,marker=\"^\")\n",
    "plt.show()"
   ]
  },
  {
   "cell_type": "code",
   "execution_count": 22,
   "metadata": {
    "execution": {
     "iopub.execute_input": "2020-10-18T14:30:35.003720Z",
     "iopub.status.busy": "2020-10-18T14:30:35.002851Z",
     "iopub.status.idle": "2020-10-18T14:30:35.520771Z",
     "shell.execute_reply": "2020-10-18T14:30:35.521403Z"
    },
    "papermill": {
     "duration": 0.587208,
     "end_time": "2020-10-18T14:30:35.521598",
     "exception": false,
     "start_time": "2020-10-18T14:30:34.934390",
     "status": "completed"
    },
    "tags": []
   },
   "outputs": [
    {
     "data": {
      "image/png": "[encoded data removed]",
      "text/plain": [
       "<Figure size 720x576 with 2 Axes>"
      ]
     },
     "metadata": {
      "needs_background": "light"
     },
     "output_type": "display_data"
    }
   ],
   "source": [
    "data.plot.hexbin(x='log(Fare)+1', y='log(Age)+1', gridsize=10,cmap=\"YlGnBu\")\n",
    "plt.show()"
   ]
  },
  {
   "cell_type": "code",
   "execution_count": 23,
   "metadata": {
    "execution": {
     "iopub.execute_input": "2020-10-18T14:30:35.676024Z",
     "iopub.status.busy": "2020-10-18T14:30:35.674996Z",
     "iopub.status.idle": "2020-10-18T14:30:35.679142Z",
     "shell.execute_reply": "2020-10-18T14:30:35.679855Z"
    },
    "papermill": {
     "duration": 0.083647,
     "end_time": "2020-10-18T14:30:35.680015",
     "exception": false,
     "start_time": "2020-10-18T14:30:35.596368",
     "status": "completed"
    },
    "tags": []
   },
   "outputs": [
    {
     "data": {
      "text/plain": [
       "Index(['Survived', 'Pclass', 'Sex', 'Cabin', 'FamSize', 'Embarked_Q',\n",
       "       'Embarked_S', 'Title_Miss', 'Title_Mr', 'Title_Mrs', 'Title_Others',\n",
       "       'log(Fare)+1', 'log(Age)+1'],\n",
       "      dtype='object')"
      ]
     },
     "execution_count": 23,
     "metadata": {},
     "output_type": "execute_result"
    }
   ],
   "source": [
    "data.columns"
   ]
  },
  {
   "cell_type": "code",
   "execution_count": 24,
   "metadata": {
    "execution": {
     "iopub.execute_input": "2020-10-18T14:30:35.826711Z",
     "iopub.status.busy": "2020-10-18T14:30:35.825481Z",
     "iopub.status.idle": "2020-10-18T14:30:35.888126Z",
     "shell.execute_reply": "2020-10-18T14:30:35.887439Z"
    },
    "papermill": {
     "duration": 0.136108,
     "end_time": "2020-10-18T14:30:35.888278",
     "exception": false,
     "start_time": "2020-10-18T14:30:35.752170",
     "status": "completed"
    },
    "tags": []
   },
   "outputs": [
    {
     "data": {
      "text/html": [
       "<div>\n",
       "<style scoped>\n",
       "    .dataframe tbody tr th:only-of-type {\n",
       "        vertical-align: middle;\n",
       "    }\n",
       "\n",
       "    .dataframe tbody tr th {\n",
       "        vertical-align: top;\n",
       "    }\n",
       "\n",
       "    .dataframe thead th {\n",
       "        text-align: right;\n",
       "    }\n",
       "</style>\n",
       "<table border=\"1\" class=\"dataframe\">\n",
       "  <thead>\n",
       "    <tr style=\"text-align: right;\">\n",
       "      <th></th>\n",
       "      <th>Survived</th>\n",
       "      <th>Pclass</th>\n",
       "      <th>Sex</th>\n",
       "      <th>Cabin</th>\n",
       "      <th>FamSize</th>\n",
       "      <th>Embarked_Q</th>\n",
       "      <th>Embarked_S</th>\n",
       "      <th>Title_Miss</th>\n",
       "      <th>Title_Mr</th>\n",
       "      <th>Title_Mrs</th>\n",
       "      <th>Title_Others</th>\n",
       "      <th>log(Fare)+1</th>\n",
       "      <th>log(Age)+1</th>\n",
       "    </tr>\n",
       "  </thead>\n",
       "  <tbody>\n",
       "    <tr>\n",
       "      <th>count</th>\n",
       "      <td>891.000000</td>\n",
       "      <td>891.000000</td>\n",
       "      <td>891.000000</td>\n",
       "      <td>891.000000</td>\n",
       "      <td>891.000000</td>\n",
       "      <td>891.000000</td>\n",
       "      <td>891.000000</td>\n",
       "      <td>891.000000</td>\n",
       "      <td>891.000000</td>\n",
       "      <td>891.000000</td>\n",
       "      <td>891.000000</td>\n",
       "      <td>891.000000</td>\n",
       "      <td>891.000000</td>\n",
       "    </tr>\n",
       "    <tr>\n",
       "      <th>mean</th>\n",
       "      <td>0.383838</td>\n",
       "      <td>2.308642</td>\n",
       "      <td>0.647587</td>\n",
       "      <td>6.716049</td>\n",
       "      <td>1.904602</td>\n",
       "      <td>0.086420</td>\n",
       "      <td>0.725028</td>\n",
       "      <td>0.207632</td>\n",
       "      <td>0.580247</td>\n",
       "      <td>0.141414</td>\n",
       "      <td>0.025814</td>\n",
       "      <td>2.962246</td>\n",
       "      <td>3.287180</td>\n",
       "    </tr>\n",
       "    <tr>\n",
       "      <th>std</th>\n",
       "      <td>0.486592</td>\n",
       "      <td>0.836071</td>\n",
       "      <td>0.477990</td>\n",
       "      <td>2.460739</td>\n",
       "      <td>1.613459</td>\n",
       "      <td>0.281141</td>\n",
       "      <td>0.446751</td>\n",
       "      <td>0.405840</td>\n",
       "      <td>0.493796</td>\n",
       "      <td>0.348644</td>\n",
       "      <td>0.158668</td>\n",
       "      <td>0.969048</td>\n",
       "      <td>0.629565</td>\n",
       "    </tr>\n",
       "    <tr>\n",
       "      <th>min</th>\n",
       "      <td>0.000000</td>\n",
       "      <td>1.000000</td>\n",
       "      <td>0.000000</td>\n",
       "      <td>0.000000</td>\n",
       "      <td>1.000000</td>\n",
       "      <td>0.000000</td>\n",
       "      <td>0.000000</td>\n",
       "      <td>0.000000</td>\n",
       "      <td>0.000000</td>\n",
       "      <td>0.000000</td>\n",
       "      <td>0.000000</td>\n",
       "      <td>0.000000</td>\n",
       "      <td>0.350657</td>\n",
       "    </tr>\n",
       "    <tr>\n",
       "      <th>25%</th>\n",
       "      <td>0.000000</td>\n",
       "      <td>2.000000</td>\n",
       "      <td>0.000000</td>\n",
       "      <td>8.000000</td>\n",
       "      <td>1.000000</td>\n",
       "      <td>0.000000</td>\n",
       "      <td>0.000000</td>\n",
       "      <td>0.000000</td>\n",
       "      <td>0.000000</td>\n",
       "      <td>0.000000</td>\n",
       "      <td>0.000000</td>\n",
       "      <td>2.187218</td>\n",
       "      <td>3.128760</td>\n",
       "    </tr>\n",
       "    <tr>\n",
       "      <th>50%</th>\n",
       "      <td>0.000000</td>\n",
       "      <td>3.000000</td>\n",
       "      <td>1.000000</td>\n",
       "      <td>8.000000</td>\n",
       "      <td>1.000000</td>\n",
       "      <td>0.000000</td>\n",
       "      <td>1.000000</td>\n",
       "      <td>0.000000</td>\n",
       "      <td>1.000000</td>\n",
       "      <td>0.000000</td>\n",
       "      <td>0.000000</td>\n",
       "      <td>2.737881</td>\n",
       "      <td>3.433987</td>\n",
       "    </tr>\n",
       "    <tr>\n",
       "      <th>75%</th>\n",
       "      <td>1.000000</td>\n",
       "      <td>3.000000</td>\n",
       "      <td>1.000000</td>\n",
       "      <td>8.000000</td>\n",
       "      <td>2.000000</td>\n",
       "      <td>0.000000</td>\n",
       "      <td>1.000000</td>\n",
       "      <td>0.000000</td>\n",
       "      <td>1.000000</td>\n",
       "      <td>0.000000</td>\n",
       "      <td>0.000000</td>\n",
       "      <td>3.465736</td>\n",
       "      <td>3.605199</td>\n",
       "    </tr>\n",
       "    <tr>\n",
       "      <th>max</th>\n",
       "      <td>1.000000</td>\n",
       "      <td>3.000000</td>\n",
       "      <td>1.000000</td>\n",
       "      <td>8.000000</td>\n",
       "      <td>11.000000</td>\n",
       "      <td>1.000000</td>\n",
       "      <td>1.000000</td>\n",
       "      <td>1.000000</td>\n",
       "      <td>1.000000</td>\n",
       "      <td>1.000000</td>\n",
       "      <td>1.000000</td>\n",
       "      <td>6.240917</td>\n",
       "      <td>4.394449</td>\n",
       "    </tr>\n",
       "  </tbody>\n",
       "</table>\n",
       "</div>"
      ],
      "text/plain": [
       "         Survived      Pclass         Sex       Cabin     FamSize  Embarked_Q  \\\n",
       "count  891.000000  891.000000  891.000000  891.000000  891.000000  891.000000   \n",
       "mean     0.383838    2.308642    0.647587    6.716049    1.904602    0.086420   \n",
       "std      0.486592    0.836071    0.477990    2.460739    1.613459    0.281141   \n",
       "min      0.000000    1.000000    0.000000    0.000000    1.000000    0.000000   \n",
       "25%      0.000000    2.000000    0.000000    8.000000    1.000000    0.000000   \n",
       "50%      0.000000    3.000000    1.000000    8.000000    1.000000    0.000000   \n",
       "75%      1.000000    3.000000    1.000000    8.000000    2.000000    0.000000   \n",
       "max      1.000000    3.000000    1.000000    8.000000   11.000000    1.000000   \n",
       "\n",
       "       Embarked_S  Title_Miss    Title_Mr   Title_Mrs  Title_Others  \\\n",
       "count  891.000000  891.000000  891.000000  891.000000    891.000000   \n",
       "mean     0.725028    0.207632    0.580247    0.141414      0.025814   \n",
       "std      0.446751    0.405840    0.493796    0.348644      0.158668   \n",
       "min      0.000000    0.000000    0.000000    0.000000      0.000000   \n",
       "25%      0.000000    0.000000    0.000000    0.000000      0.000000   \n",
       "50%      1.000000    0.000000    1.000000    0.000000      0.000000   \n",
       "75%      1.000000    0.000000    1.000000    0.000000      0.000000   \n",
       "max      1.000000    1.000000    1.000000    1.000000      1.000000   \n",
       "\n",
       "       log(Fare)+1  log(Age)+1  \n",
       "count   891.000000  891.000000  \n",
       "mean      2.962246    3.287180  \n",
       "std       0.969048    0.629565  \n",
       "min       0.000000    0.350657  \n",
       "25%       2.187218    3.128760  \n",
       "50%       2.737881    3.433987  \n",
       "75%       3.465736    3.605199  \n",
       "max       6.240917    4.394449  "
      ]
     },
     "execution_count": 24,
     "metadata": {},
     "output_type": "execute_result"
    }
   ],
   "source": [
    "data.describe()"
   ]
  },
  {
   "cell_type": "code",
   "execution_count": 25,
   "metadata": {
    "execution": {
     "iopub.execute_input": "2020-10-18T14:30:36.050041Z",
     "iopub.status.busy": "2020-10-18T14:30:36.048630Z",
     "iopub.status.idle": "2020-10-18T14:30:36.053278Z",
     "shell.execute_reply": "2020-10-18T14:30:36.053918Z"
    },
    "papermill": {
     "duration": 0.091189,
     "end_time": "2020-10-18T14:30:36.054085",
     "exception": false,
     "start_time": "2020-10-18T14:30:35.962896",
     "status": "completed"
    },
    "tags": []
   },
   "outputs": [
    {
     "data": {
      "text/html": [
       "<div>\n",
       "<style scoped>\n",
       "    .dataframe tbody tr th:only-of-type {\n",
       "        vertical-align: middle;\n",
       "    }\n",
       "\n",
       "    .dataframe tbody tr th {\n",
       "        vertical-align: top;\n",
       "    }\n",
       "\n",
       "    .dataframe thead th {\n",
       "        text-align: right;\n",
       "    }\n",
       "</style>\n",
       "<table border=\"1\" class=\"dataframe\">\n",
       "  <thead>\n",
       "    <tr style=\"text-align: right;\">\n",
       "      <th></th>\n",
       "      <th>Survived</th>\n",
       "      <th>Pclass</th>\n",
       "      <th>Sex</th>\n",
       "      <th>Cabin</th>\n",
       "      <th>FamSize</th>\n",
       "      <th>Embarked_Q</th>\n",
       "      <th>Embarked_S</th>\n",
       "      <th>Title_Miss</th>\n",
       "      <th>Title_Mr</th>\n",
       "      <th>Title_Mrs</th>\n",
       "      <th>Title_Others</th>\n",
       "      <th>log(Fare)+1</th>\n",
       "      <th>log(Age)+1</th>\n",
       "    </tr>\n",
       "  </thead>\n",
       "  <tbody>\n",
       "    <tr>\n",
       "      <th>0</th>\n",
       "      <td>0</td>\n",
       "      <td>3</td>\n",
       "      <td>1</td>\n",
       "      <td>8</td>\n",
       "      <td>2</td>\n",
       "      <td>0</td>\n",
       "      <td>1</td>\n",
       "      <td>0</td>\n",
       "      <td>1</td>\n",
       "      <td>0</td>\n",
       "      <td>0</td>\n",
       "      <td>2.110213</td>\n",
       "      <td>3.135494</td>\n",
       "    </tr>\n",
       "    <tr>\n",
       "      <th>1</th>\n",
       "      <td>1</td>\n",
       "      <td>1</td>\n",
       "      <td>0</td>\n",
       "      <td>2</td>\n",
       "      <td>2</td>\n",
       "      <td>0</td>\n",
       "      <td>0</td>\n",
       "      <td>0</td>\n",
       "      <td>0</td>\n",
       "      <td>1</td>\n",
       "      <td>0</td>\n",
       "      <td>4.280593</td>\n",
       "      <td>3.663562</td>\n",
       "    </tr>\n",
       "    <tr>\n",
       "      <th>2</th>\n",
       "      <td>1</td>\n",
       "      <td>3</td>\n",
       "      <td>0</td>\n",
       "      <td>8</td>\n",
       "      <td>1</td>\n",
       "      <td>0</td>\n",
       "      <td>1</td>\n",
       "      <td>1</td>\n",
       "      <td>0</td>\n",
       "      <td>0</td>\n",
       "      <td>0</td>\n",
       "      <td>2.188856</td>\n",
       "      <td>3.295837</td>\n",
       "    </tr>\n",
       "    <tr>\n",
       "      <th>3</th>\n",
       "      <td>1</td>\n",
       "      <td>1</td>\n",
       "      <td>0</td>\n",
       "      <td>2</td>\n",
       "      <td>2</td>\n",
       "      <td>0</td>\n",
       "      <td>1</td>\n",
       "      <td>0</td>\n",
       "      <td>0</td>\n",
       "      <td>1</td>\n",
       "      <td>0</td>\n",
       "      <td>3.990834</td>\n",
       "      <td>3.583519</td>\n",
       "    </tr>\n",
       "    <tr>\n",
       "      <th>4</th>\n",
       "      <td>0</td>\n",
       "      <td>3</td>\n",
       "      <td>1</td>\n",
       "      <td>8</td>\n",
       "      <td>1</td>\n",
       "      <td>0</td>\n",
       "      <td>1</td>\n",
       "      <td>0</td>\n",
       "      <td>1</td>\n",
       "      <td>0</td>\n",
       "      <td>0</td>\n",
       "      <td>2.202765</td>\n",
       "      <td>3.583519</td>\n",
       "    </tr>\n",
       "  </tbody>\n",
       "</table>\n",
       "</div>"
      ],
      "text/plain": [
       "   Survived  Pclass  Sex  Cabin  FamSize  Embarked_Q  Embarked_S  Title_Miss  \\\n",
       "0         0       3    1      8        2           0           1           0   \n",
       "1         1       1    0      2        2           0           0           0   \n",
       "2         1       3    0      8        1           0           1           1   \n",
       "3         1       1    0      2        2           0           1           0   \n",
       "4         0       3    1      8        1           0           1           0   \n",
       "\n",
       "   Title_Mr  Title_Mrs  Title_Others  log(Fare)+1  log(Age)+1  \n",
       "0         1          0             0     2.110213    3.135494  \n",
       "1         0          1             0     4.280593    3.663562  \n",
       "2         0          0             0     2.188856    3.295837  \n",
       "3         0          1             0     3.990834    3.583519  \n",
       "4         1          0             0     2.202765    3.583519  "
      ]
     },
     "execution_count": 25,
     "metadata": {},
     "output_type": "execute_result"
    }
   ],
   "source": [
    "data.head()"
   ]
  },
  {
   "cell_type": "code",
   "execution_count": 26,
   "metadata": {
    "execution": {
     "iopub.execute_input": "2020-10-18T14:30:36.200195Z",
     "iopub.status.busy": "2020-10-18T14:30:36.199156Z",
     "iopub.status.idle": "2020-10-18T14:30:36.217681Z",
     "shell.execute_reply": "2020-10-18T14:30:36.218288Z"
    },
    "papermill": {
     "duration": 0.09619,
     "end_time": "2020-10-18T14:30:36.218437",
     "exception": false,
     "start_time": "2020-10-18T14:30:36.122247",
     "status": "completed"
    },
    "tags": []
   },
   "outputs": [
    {
     "data": {
      "text/html": [
       "<div>\n",
       "<style scoped>\n",
       "    .dataframe tbody tr th:only-of-type {\n",
       "        vertical-align: middle;\n",
       "    }\n",
       "\n",
       "    .dataframe tbody tr th {\n",
       "        vertical-align: top;\n",
       "    }\n",
       "\n",
       "    .dataframe thead th {\n",
       "        text-align: right;\n",
       "    }\n",
       "</style>\n",
       "<table border=\"1\" class=\"dataframe\">\n",
       "  <thead>\n",
       "    <tr style=\"text-align: right;\">\n",
       "      <th></th>\n",
       "      <th>skew</th>\n",
       "    </tr>\n",
       "  </thead>\n",
       "  <tbody>\n",
       "    <tr>\n",
       "      <th>FamSize</th>\n",
       "      <td>2.722848</td>\n",
       "    </tr>\n",
       "    <tr>\n",
       "      <th>Survived</th>\n",
       "      <td>0.477717</td>\n",
       "    </tr>\n",
       "    <tr>\n",
       "      <th>log(Fare)+1</th>\n",
       "      <td>0.394263</td>\n",
       "    </tr>\n",
       "    <tr>\n",
       "      <th>Sex</th>\n",
       "      <td>-0.617878</td>\n",
       "    </tr>\n",
       "    <tr>\n",
       "      <th>Pclass</th>\n",
       "      <td>-0.629486</td>\n",
       "    </tr>\n",
       "    <tr>\n",
       "      <th>Cabin</th>\n",
       "      <td>-1.543536</td>\n",
       "    </tr>\n",
       "    <tr>\n",
       "      <th>log(Age)+1</th>\n",
       "      <td>-2.114003</td>\n",
       "    </tr>\n",
       "  </tbody>\n",
       "</table>\n",
       "</div>"
      ],
      "text/plain": [
       "                 skew\n",
       "FamSize      2.722848\n",
       "Survived     0.477717\n",
       "log(Fare)+1  0.394263\n",
       "Sex         -0.617878\n",
       "Pclass      -0.629486\n",
       "Cabin       -1.543536\n",
       "log(Age)+1  -2.114003"
      ]
     },
     "execution_count": 26,
     "metadata": {},
     "output_type": "execute_result"
    }
   ],
   "source": [
    "features = data\n",
    "numeric_dtypes = ['int16', 'int32', 'int64', 'float16', 'float32', 'float64']\n",
    "numerics2 = []\n",
    "for i in features.columns:\n",
    "    if features[i].dtype in numeric_dtypes: \n",
    "        numerics2.append(i)\n",
    "\n",
    "skew_features = features[numerics2].apply(lambda x: skew(x)).sort_values(ascending=False)\n",
    "skews = pd.DataFrame({'skew':skew_features})\n",
    "skews"
   ]
  },
  {
   "cell_type": "code",
   "execution_count": 27,
   "metadata": {
    "execution": {
     "iopub.execute_input": "2020-10-18T14:30:36.363965Z",
     "iopub.status.busy": "2020-10-18T14:30:36.363055Z",
     "iopub.status.idle": "2020-10-18T14:30:36.389371Z",
     "shell.execute_reply": "2020-10-18T14:30:36.388615Z"
    },
    "papermill": {
     "duration": 0.103281,
     "end_time": "2020-10-18T14:30:36.389531",
     "exception": false,
     "start_time": "2020-10-18T14:30:36.286250",
     "status": "completed"
    },
    "tags": []
   },
   "outputs": [
    {
     "data": {
      "text/html": [
       "<div>\n",
       "<style scoped>\n",
       "    .dataframe tbody tr th:only-of-type {\n",
       "        vertical-align: middle;\n",
       "    }\n",
       "\n",
       "    .dataframe tbody tr th {\n",
       "        vertical-align: top;\n",
       "    }\n",
       "\n",
       "    .dataframe thead th {\n",
       "        text-align: right;\n",
       "    }\n",
       "</style>\n",
       "<table border=\"1\" class=\"dataframe\">\n",
       "  <thead>\n",
       "    <tr style=\"text-align: right;\">\n",
       "      <th></th>\n",
       "      <th>skew</th>\n",
       "    </tr>\n",
       "  </thead>\n",
       "  <tbody>\n",
       "    <tr>\n",
       "      <th>FamSize</th>\n",
       "      <td>0.967476</td>\n",
       "    </tr>\n",
       "    <tr>\n",
       "      <th>Survived</th>\n",
       "      <td>0.477717</td>\n",
       "    </tr>\n",
       "    <tr>\n",
       "      <th>log(Fare)+1</th>\n",
       "      <td>0.394263</td>\n",
       "    </tr>\n",
       "    <tr>\n",
       "      <th>Sex</th>\n",
       "      <td>-0.617878</td>\n",
       "    </tr>\n",
       "    <tr>\n",
       "      <th>Pclass</th>\n",
       "      <td>-0.629486</td>\n",
       "    </tr>\n",
       "    <tr>\n",
       "      <th>Cabin</th>\n",
       "      <td>-1.543536</td>\n",
       "    </tr>\n",
       "    <tr>\n",
       "      <th>log(Age)+1</th>\n",
       "      <td>-2.114003</td>\n",
       "    </tr>\n",
       "  </tbody>\n",
       "</table>\n",
       "</div>"
      ],
      "text/plain": [
       "                 skew\n",
       "FamSize      0.967476\n",
       "Survived     0.477717\n",
       "log(Fare)+1  0.394263\n",
       "Sex         -0.617878\n",
       "Pclass      -0.629486\n",
       "Cabin       -1.543536\n",
       "log(Age)+1  -2.114003"
      ]
     },
     "execution_count": 27,
     "metadata": {},
     "output_type": "execute_result"
    }
   ],
   "source": [
    "high_skew = skew_features[skew_features > 0.5]\n",
    "high_skew = high_skew\n",
    "skew_index = high_skew.index\n",
    "\n",
    "for i in skew_index:\n",
    "    features[i]= boxcox1p(features[i], boxcox_normmax(features[i]+1))\n",
    "\n",
    "        \n",
    "skew_features2 = features[numerics2].apply(lambda x: skew(x)).sort_values(ascending=False)\n",
    "skews2 = pd.DataFrame({'skew':skew_features2})\n",
    "skews2"
   ]
  },
  {
   "cell_type": "code",
   "execution_count": 28,
   "metadata": {
    "execution": {
     "iopub.execute_input": "2020-10-18T14:30:36.540662Z",
     "iopub.status.busy": "2020-10-18T14:30:36.537752Z",
     "iopub.status.idle": "2020-10-18T14:30:36.551249Z",
     "shell.execute_reply": "2020-10-18T14:30:36.552117Z"
    },
    "papermill": {
     "duration": 0.092595,
     "end_time": "2020-10-18T14:30:36.552339",
     "exception": false,
     "start_time": "2020-10-18T14:30:36.459744",
     "status": "completed"
    },
    "tags": []
   },
   "outputs": [],
   "source": [
    "X = data.drop(['Survived'], 1)\n",
    "y = data['Survived']"
   ]
  },
  {
   "cell_type": "code",
   "execution_count": 29,
   "metadata": {
    "execution": {
     "iopub.execute_input": "2020-10-18T14:30:36.793163Z",
     "iopub.status.busy": "2020-10-18T14:30:36.792086Z",
     "iopub.status.idle": "2020-10-18T14:30:38.511832Z",
     "shell.execute_reply": "2020-10-18T14:30:38.511161Z"
    },
    "papermill": {
     "duration": 1.834785,
     "end_time": "2020-10-18T14:30:38.511973",
     "exception": false,
     "start_time": "2020-10-18T14:30:36.677188",
     "status": "completed"
    },
    "tags": []
   },
   "outputs": [],
   "source": [
    "ols = sm.OLS(endog = y, exog = X)\n",
    "fit = ols.fit()\n",
    "test2 = fit.outlier_test()['bonf(p)']"
   ]
  },
  {
   "cell_type": "code",
   "execution_count": 30,
   "metadata": {
    "execution": {
     "iopub.execute_input": "2020-10-18T14:30:38.660096Z",
     "iopub.status.busy": "2020-10-18T14:30:38.658920Z",
     "iopub.status.idle": "2020-10-18T14:30:38.663960Z",
     "shell.execute_reply": "2020-10-18T14:30:38.663382Z"
    },
    "papermill": {
     "duration": 0.08232,
     "end_time": "2020-10-18T14:30:38.664095",
     "exception": false,
     "start_time": "2020-10-18T14:30:38.581775",
     "status": "completed"
    },
    "tags": []
   },
   "outputs": [
    {
     "data": {
      "text/plain": [
       "[]"
      ]
     },
     "execution_count": 30,
     "metadata": {},
     "output_type": "execute_result"
    }
   ],
   "source": [
    "outliers = list(test2[test2<1e-3]) \n",
    "outliers"
   ]
  },
  {
   "cell_type": "code",
   "execution_count": 31,
   "metadata": {
    "execution": {
     "iopub.execute_input": "2020-10-18T14:30:38.811576Z",
     "iopub.status.busy": "2020-10-18T14:30:38.810724Z",
     "iopub.status.idle": "2020-10-18T14:30:38.814927Z",
     "shell.execute_reply": "2020-10-18T14:30:38.814334Z"
    },
    "papermill": {
     "duration": 0.082025,
     "end_time": "2020-10-18T14:30:38.815055",
     "exception": false,
     "start_time": "2020-10-18T14:30:38.733030",
     "status": "completed"
    },
    "tags": []
   },
   "outputs": [],
   "source": [
    "X = X.drop(X.index[outliers])\n",
    "y = y.drop(y.index[outliers])"
   ]
  },
  {
   "cell_type": "code",
   "execution_count": 32,
   "metadata": {
    "execution": {
     "iopub.execute_input": "2020-10-18T14:30:38.966701Z",
     "iopub.status.busy": "2020-10-18T14:30:38.962230Z",
     "iopub.status.idle": "2020-10-18T14:30:38.982890Z",
     "shell.execute_reply": "2020-10-18T14:30:38.982184Z"
    },
    "papermill": {
     "duration": 0.098627,
     "end_time": "2020-10-18T14:30:38.983025",
     "exception": false,
     "start_time": "2020-10-18T14:30:38.884398",
     "status": "completed"
    },
    "tags": []
   },
   "outputs": [],
   "source": [
    "overfit = []\n",
    "for i in X.columns:\n",
    "    counts = X[i].value_counts()\n",
    "    zeros = counts.iloc[0]\n",
    "    if zeros / len(X) * 100 >99.94:\n",
    "        overfit.append(i)"
   ]
  },
  {
   "cell_type": "code",
   "execution_count": 33,
   "metadata": {
    "execution": {
     "iopub.execute_input": "2020-10-18T14:30:39.128086Z",
     "iopub.status.busy": "2020-10-18T14:30:39.126901Z",
     "iopub.status.idle": "2020-10-18T14:30:39.131353Z",
     "shell.execute_reply": "2020-10-18T14:30:39.131884Z"
    },
    "papermill": {
     "duration": 0.079704,
     "end_time": "2020-10-18T14:30:39.132039",
     "exception": false,
     "start_time": "2020-10-18T14:30:39.052335",
     "status": "completed"
    },
    "tags": []
   },
   "outputs": [
    {
     "data": {
      "text/plain": [
       "[]"
      ]
     },
     "execution_count": 33,
     "metadata": {},
     "output_type": "execute_result"
    }
   ],
   "source": [
    "overfit = list(overfit)\n",
    "overfit"
   ]
  },
  {
   "cell_type": "code",
   "execution_count": 34,
   "metadata": {
    "execution": {
     "iopub.execute_input": "2020-10-18T14:30:39.279786Z",
     "iopub.status.busy": "2020-10-18T14:30:39.279016Z",
     "iopub.status.idle": "2020-10-18T14:30:39.286520Z",
     "shell.execute_reply": "2020-10-18T14:30:39.285909Z"
    },
    "papermill": {
     "duration": 0.084639,
     "end_time": "2020-10-18T14:30:39.286641",
     "exception": false,
     "start_time": "2020-10-18T14:30:39.202002",
     "status": "completed"
    },
    "tags": []
   },
   "outputs": [],
   "source": [
    "X_train, X_test, y_train, y_test = train_test_split(X, y, test_size = 0.2, random_state = 0)"
   ]
  },
  {
   "cell_type": "code",
   "execution_count": 35,
   "metadata": {
    "execution": {
     "iopub.execute_input": "2020-10-18T14:30:39.440898Z",
     "iopub.status.busy": "2020-10-18T14:30:39.439926Z",
     "iopub.status.idle": "2020-10-18T14:30:44.306662Z",
     "shell.execute_reply": "2020-10-18T14:30:44.307541Z"
    },
    "papermill": {
     "duration": 4.950488,
     "end_time": "2020-10-18T14:30:44.307735",
     "exception": false,
     "start_time": "2020-10-18T14:30:39.357247",
     "status": "completed"
    },
    "tags": []
   },
   "outputs": [],
   "source": [
    "red_tsne = TSNE(n_components=2,random_state=42).fit_transform(X_train)\n",
    "red_pca = PCA(n_components=2, random_state = 42).fit_transform(X_train)\n",
    "red_svd = TruncatedSVD(n_components = 2, algorithm = 'randomized', random_state = 42).fit_transform(X_train)"
   ]
  },
  {
   "cell_type": "code",
   "execution_count": 36,
   "metadata": {
    "execution": {
     "iopub.execute_input": "2020-10-18T14:30:44.504733Z",
     "iopub.status.busy": "2020-10-18T14:30:44.496641Z",
     "iopub.status.idle": "2020-10-18T14:30:45.276475Z",
     "shell.execute_reply": "2020-10-18T14:30:45.277085Z"
    },
    "papermill": {
     "duration": 0.884937,
     "end_time": "2020-10-18T14:30:45.277241",
     "exception": false,
     "start_time": "2020-10-18T14:30:44.392304",
     "status": "completed"
    },
    "tags": []
   },
   "outputs": [
    {
     "data": {
      "image/png": "[encoded data removed]",
      "text/plain": [
       "<Figure size 1728x432 with 3 Axes>"
      ]
     },
     "metadata": {
      "needs_background": "light"
     },
     "output_type": "display_data"
    }
   ],
   "source": [
    "f, (ax1, ax2, ax3) = plt.subplots(1, 3, figsize=(24,6))\n",
    "f.suptitle('Clusters obtained by Dimensionality Reduction', fontsize=14)\n",
    "blue_patch = mpatches.Patch(color='#0A0AFF', label='Passanger Died')\n",
    "red_patch = mpatches.Patch(color='#AF0000', label='Passanger Survived')\n",
    "ax1.scatter(red_tsne[:,0], red_tsne[:,1], c=(y_train == 0), cmap='coolwarm', label='Passanger Died', linewidths=2)\n",
    "ax1.scatter(red_tsne[:,0], red_tsne[:,1], c=(y_train == 1), cmap='coolwarm', label='Passanger Survived', linewidths=2)\n",
    "ax1.set_title('t-SNE', fontsize=14)\n",
    "ax1.grid(True)\n",
    "ax1.legend(handles=[blue_patch, red_patch])\n",
    "ax2.scatter(red_pca[:,0], red_pca[:,1], c=(y_train == 0), cmap='coolwarm', label='Passanger Died', linewidths=2)\n",
    "ax2.scatter(red_pca[:,0], red_pca[:,1], c=(y_train == 1), cmap='coolwarm', label='Passanger Survived', linewidths=2)\n",
    "ax2.set_title('PCA', fontsize=14)\n",
    "ax2.grid(True)\n",
    "ax2.legend(handles=[blue_patch, red_patch])\n",
    "ax3.scatter(red_svd[:,0], red_svd[:,1],c=(y_train == 0), cmap='coolwarm', label='Passanger Died', linewidths=2)\n",
    "ax3.scatter(red_svd[:,0], red_svd[:,1],c=(y_train == 1), cmap='coolwarm', label='Passanger Survived', linewidths=2)\n",
    "ax3.set_title('Truncated SVD', fontsize=14)\n",
    "ax3.grid(True)\n",
    "ax3.legend(handles=[blue_patch, red_patch])\n",
    "plt.show()"
   ]
  },
  {
   "cell_type": "code",
   "execution_count": 37,
   "metadata": {
    "execution": {
     "iopub.execute_input": "2020-10-18T14:30:45.434574Z",
     "iopub.status.busy": "2020-10-18T14:30:45.433696Z",
     "iopub.status.idle": "2020-10-18T14:30:45.436935Z",
     "shell.execute_reply": "2020-10-18T14:30:45.436294Z"
    },
    "papermill": {
     "duration": 0.085369,
     "end_time": "2020-10-18T14:30:45.437056",
     "exception": false,
     "start_time": "2020-10-18T14:30:45.351687",
     "status": "completed"
    },
    "tags": []
   },
   "outputs": [],
   "source": [
    "train_accuracies = {'Logistic Regression':0, 'Support Vector Classifier':0, 'K-Neighbors Classifier':0, 'Random Forest Classifier':0,\n",
    "                   'Decision Tree Classifier': 0 , 'XGBoost Classifier':0 , 'lightgbm Classifier' : 0}\n",
    "test_accuracies = {'Logistic Regression':0, 'Support Vector Classifier':0, 'K-Neighbors Classifier':0, 'Random Forest Classifier':0,\n",
    "                   'Decision Tree Classifier': 0 , 'XGBoost Classifier':0 , 'lightgbm Classifier' : 0}"
   ]
  },
  {
   "cell_type": "code",
   "execution_count": 38,
   "metadata": {
    "execution": {
     "iopub.execute_input": "2020-10-18T14:30:45.594955Z",
     "iopub.status.busy": "2020-10-18T14:30:45.594183Z",
     "iopub.status.idle": "2020-10-18T14:30:46.021043Z",
     "shell.execute_reply": "2020-10-18T14:30:46.020383Z"
    },
    "papermill": {
     "duration": 0.510115,
     "end_time": "2020-10-18T14:30:46.021188",
     "exception": false,
     "start_time": "2020-10-18T14:30:45.511073",
     "status": "completed"
    },
    "tags": []
   },
   "outputs": [],
   "source": [
    "lgr = LogisticRegression()\n",
    "params = {\"C\" : np.logspace(-4, -1, 4),\n",
    "          \"penalty\" : [\"l2\"]}\n",
    "lgr_grid = GridSearchCV(lgr, params, scoring='accuracy', cv=5)\n",
    "_ = lgr_grid.fit(X_train, y_train)"
   ]
  },
  {
   "cell_type": "code",
   "execution_count": 39,
   "metadata": {
    "execution": {
     "iopub.execute_input": "2020-10-18T14:30:46.184843Z",
     "iopub.status.busy": "2020-10-18T14:30:46.183757Z",
     "iopub.status.idle": "2020-10-18T14:30:46.192889Z",
     "shell.execute_reply": "2020-10-18T14:30:46.192093Z"
    },
    "papermill": {
     "duration": 0.097062,
     "end_time": "2020-10-18T14:30:46.193068",
     "exception": false,
     "start_time": "2020-10-18T14:30:46.096006",
     "status": "completed"
    },
    "tags": []
   },
   "outputs": [
    {
     "name": "stdout",
     "output_type": "stream",
     "text": [
      "Logistic Regression results :\n",
      "   -   Accuracy on the train set : 81.60%\n",
      "   -   Accuracy on the test set : 79.89%\n"
     ]
    }
   ],
   "source": [
    "train_preds = lgr_grid.predict(X_train)\n",
    "test_preds = lgr_grid.predict(X_test)\n",
    "print(\"Logistic Regression results :\")\n",
    "print(\"   -   Accuracy on the train set : {:.2f}%\".format(accuracy_score(train_preds, y_train)*100))\n",
    "train_accuracies['Logistic Regression'] = accuracy_score(train_preds, y_train)*100\n",
    "print(\"   -   Accuracy on the test set : {:.2f}%\".format(accuracy_score(test_preds, y_test)*100))\n",
    "test_accuracies['Logistic Regression'] = accuracy_score(test_preds, y_test)*100"
   ]
  },
  {
   "cell_type": "code",
   "execution_count": 40,
   "metadata": {
    "execution": {
     "iopub.execute_input": "2020-10-18T14:30:46.354062Z",
     "iopub.status.busy": "2020-10-18T14:30:46.353006Z",
     "iopub.status.idle": "2020-10-18T14:30:54.843335Z",
     "shell.execute_reply": "2020-10-18T14:30:54.842561Z"
    },
    "papermill": {
     "duration": 8.573916,
     "end_time": "2020-10-18T14:30:54.843459",
     "exception": false,
     "start_time": "2020-10-18T14:30:46.269543",
     "status": "completed"
    },
    "tags": []
   },
   "outputs": [],
   "source": [
    "svc = SVC()\n",
    "param_grid = {'C': np.logspace(-2, 2, 3),\n",
    "              'kernel': ['linear']}\n",
    "svc_grid = GridSearchCV(svc, param_grid, scoring='accuracy', cv=5)\n",
    "_ = svc_grid.fit(X_train, y_train)"
   ]
  },
  {
   "cell_type": "code",
   "execution_count": 41,
   "metadata": {
    "execution": {
     "iopub.execute_input": "2020-10-18T14:30:55.053934Z",
     "iopub.status.busy": "2020-10-18T14:30:55.052912Z",
     "iopub.status.idle": "2020-10-18T14:30:55.074866Z",
     "shell.execute_reply": "2020-10-18T14:30:55.074225Z"
    },
    "papermill": {
     "duration": 0.108038,
     "end_time": "2020-10-18T14:30:55.075001",
     "exception": false,
     "start_time": "2020-10-18T14:30:54.966963",
     "status": "completed"
    },
    "tags": []
   },
   "outputs": [
    {
     "name": "stdout",
     "output_type": "stream",
     "text": [
      "Support Vector Classifier results :\n",
      "   -   Accuracy on the train set : 79.92%\n",
      "   -   Accuracy on the test set : 79.89%\n"
     ]
    }
   ],
   "source": [
    "train_preds = svc_grid.predict(X_train)\n",
    "test_preds = svc_grid.predict(X_test)\n",
    "print(\"Support Vector Classifier results :\")\n",
    "print(\"   -   Accuracy on the train set : {:.2f}%\".format(accuracy_score(train_preds, y_train)*100))\n",
    "train_accuracies['Support Vector Classifier'] = accuracy_score(train_preds, y_train)*100\n",
    "print(\"   -   Accuracy on the test set : {:.2f}%\".format(accuracy_score(test_preds, y_test)*100))\n",
    "test_accuracies['Support Vector Classifier'] = accuracy_score(test_preds, y_test)*100"
   ]
  },
  {
   "cell_type": "code",
   "execution_count": 42,
   "metadata": {
    "execution": {
     "iopub.execute_input": "2020-10-18T14:30:55.235632Z",
     "iopub.status.busy": "2020-10-18T14:30:55.234487Z",
     "iopub.status.idle": "2020-10-18T14:30:59.999404Z",
     "shell.execute_reply": "2020-10-18T14:31:00.000163Z"
    },
    "papermill": {
     "duration": 4.849965,
     "end_time": "2020-10-18T14:31:00.000377",
     "exception": false,
     "start_time": "2020-10-18T14:30:55.150412",
     "status": "completed"
    },
    "tags": []
   },
   "outputs": [],
   "source": [
    "knn = KNeighborsClassifier()\n",
    "param_grid = {'n_neighbors': np.arange(1,31),\n",
    "          'weights': ['uniform', 'distance']}\n",
    "knn_grid = GridSearchCV(knn, param_grid, scoring='accuracy', cv=5)\n",
    "_ = knn_grid.fit(X_train,y_train)"
   ]
  },
  {
   "cell_type": "code",
   "execution_count": 43,
   "metadata": {
    "execution": {
     "iopub.execute_input": "2020-10-18T14:31:00.216415Z",
     "iopub.status.busy": "2020-10-18T14:31:00.215413Z",
     "iopub.status.idle": "2020-10-18T14:31:00.278667Z",
     "shell.execute_reply": "2020-10-18T14:31:00.279572Z"
    },
    "papermill": {
     "duration": 0.166151,
     "end_time": "2020-10-18T14:31:00.279791",
     "exception": false,
     "start_time": "2020-10-18T14:31:00.113640",
     "status": "completed"
    },
    "tags": []
   },
   "outputs": [
    {
     "name": "stdout",
     "output_type": "stream",
     "text": [
      "K-Neighbors Classifier results :\n",
      "   -   Accuracy on the train set : 84.83%\n",
      "   -   Accuracy on the test set : 81.56%\n"
     ]
    }
   ],
   "source": [
    "train_preds = knn_grid.predict(X_train)\n",
    "test_preds = knn_grid.predict(X_test)\n",
    "print(\"K-Neighbors Classifier results :\")\n",
    "print(\"   -   Accuracy on the train set : {:.2f}%\".format(accuracy_score(train_preds, y_train)*100))\n",
    "train_accuracies['K-Neighbors Classifier'] = accuracy_score(train_preds, y_train)*100\n",
    "print(\"   -   Accuracy on the test set : {:.2f}%\".format(accuracy_score(test_preds, y_test)*100))\n",
    "test_accuracies['K-Neighbors Classifier'] = accuracy_score(test_preds, y_test)*100"
   ]
  },
  {
   "cell_type": "code",
   "execution_count": 44,
   "metadata": {
    "execution": {
     "iopub.execute_input": "2020-10-18T14:31:00.471990Z",
     "iopub.status.busy": "2020-10-18T14:31:00.470809Z",
     "iopub.status.idle": "2020-10-18T14:32:30.135770Z",
     "shell.execute_reply": "2020-10-18T14:32:30.134963Z"
    },
    "papermill": {
     "duration": 89.769842,
     "end_time": "2020-10-18T14:32:30.135935",
     "exception": false,
     "start_time": "2020-10-18T14:31:00.366093",
     "status": "completed"
    },
    "tags": []
   },
   "outputs": [],
   "source": [
    "rf = RandomForestClassifier(random_state=42)\n",
    "params = {'n_estimators': [2**i for i in range(3,9)],\n",
    "          'max_depth': np.arange(1,21),\n",
    "          'min_samples_split': np.linspace(0.1, 0.6, 6),\n",
    "          'min_samples_leaf': np.linspace(0.1, 0.3, 5),\n",
    "          'max_leaf_nodes': 10*np.arange(1,19),\n",
    "          'max_features': np.arange(1,11)/10}\n",
    "rf_grid = RandomizedSearchCV(rf, params, scoring='accuracy', cv=5, random_state=42, n_iter=100)\n",
    "_ = rf_grid.fit(X_train,y_train)"
   ]
  },
  {
   "cell_type": "code",
   "execution_count": 45,
   "metadata": {
    "execution": {
     "iopub.execute_input": "2020-10-18T14:32:30.305685Z",
     "iopub.status.busy": "2020-10-18T14:32:30.304567Z",
     "iopub.status.idle": "2020-10-18T14:32:30.320624Z",
     "shell.execute_reply": "2020-10-18T14:32:30.321345Z"
    },
    "papermill": {
     "duration": 0.104241,
     "end_time": "2020-10-18T14:32:30.321534",
     "exception": false,
     "start_time": "2020-10-18T14:32:30.217293",
     "status": "completed"
    },
    "tags": []
   },
   "outputs": [
    {
     "name": "stdout",
     "output_type": "stream",
     "text": [
      "Random Forest Classifier results :\n",
      "   -   Accuracy on the train set : 79.63%\n",
      "   -   Accuracy on the test set : 77.09%\n"
     ]
    }
   ],
   "source": [
    "train_preds = rf_grid.predict(X_train)\n",
    "test_preds = rf_grid.predict(X_test)\n",
    "print(\"Random Forest Classifier results :\")\n",
    "print(\"   -   Accuracy on the train set : {:.2f}%\".format(accuracy_score(train_preds, y_train)*100))\n",
    "train_accuracies['Random Forest Classifier'] = accuracy_score(train_preds, y_train)*100\n",
    "print(\"   -   Accuracy on the test set : {:.2f}%\".format(accuracy_score(test_preds, y_test)*100))\n",
    "test_accuracies['Random Forest Classifier'] = accuracy_score(test_preds, y_test)*100"
   ]
  },
  {
   "cell_type": "code",
   "execution_count": 46,
   "metadata": {
    "execution": {
     "iopub.execute_input": "2020-10-18T14:32:30.488103Z",
     "iopub.status.busy": "2020-10-18T14:32:30.487016Z",
     "iopub.status.idle": "2020-10-18T14:32:30.990770Z",
     "shell.execute_reply": "2020-10-18T14:32:30.990056Z"
    },
    "papermill": {
     "duration": 0.591724,
     "end_time": "2020-10-18T14:32:30.990922",
     "exception": false,
     "start_time": "2020-10-18T14:32:30.399198",
     "status": "completed"
    },
    "tags": []
   },
   "outputs": [],
   "source": [
    "dt = DecisionTreeClassifier(random_state=42)\n",
    "params = {'criterion':['gini','entropy'],'max_depth':[4,5,6,7,8,9,10,11,12,15,20,30,40,50,70,90,120,150]}\n",
    "dt_grid = RandomizedSearchCV(dt, params, scoring='accuracy', cv=5, random_state=42)\n",
    "_ = dt_grid.fit(X_train,y_train)"
   ]
  },
  {
   "cell_type": "code",
   "execution_count": 47,
   "metadata": {
    "execution": {
     "iopub.execute_input": "2020-10-18T14:32:31.159287Z",
     "iopub.status.busy": "2020-10-18T14:32:31.157036Z",
     "iopub.status.idle": "2020-10-18T14:32:31.171899Z",
     "shell.execute_reply": "2020-10-18T14:32:31.172697Z"
    },
    "papermill": {
     "duration": 0.101586,
     "end_time": "2020-10-18T14:32:31.172877",
     "exception": false,
     "start_time": "2020-10-18T14:32:31.071291",
     "status": "completed"
    },
    "tags": []
   },
   "outputs": [
    {
     "name": "stdout",
     "output_type": "stream",
     "text": [
      "Decision Tree Classifier results :\n",
      "   -   Accuracy on the train set : 89.75%\n",
      "   -   Accuracy on the test set : 81.01%\n"
     ]
    }
   ],
   "source": [
    "train_preds = dt_grid.predict(X_train)\n",
    "test_preds = dt_grid.predict(X_test)\n",
    "print(\"Decision Tree Classifier results :\")\n",
    "print(\"   -   Accuracy on the train set : {:.2f}%\".format(accuracy_score(train_preds, y_train)*100))\n",
    "train_accuracies['Decision Tree Classifier'] = accuracy_score(train_preds, y_train)*100\n",
    "print(\"   -   Accuracy on the test set : {:.2f}%\".format(accuracy_score(test_preds, y_test)*100))\n",
    "test_accuracies['Decision Tree Classifier'] = accuracy_score(test_preds, y_test)*100"
   ]
  },
  {
   "cell_type": "code",
   "execution_count": 48,
   "metadata": {
    "execution": {
     "iopub.execute_input": "2020-10-18T14:32:31.341582Z",
     "iopub.status.busy": "2020-10-18T14:32:31.340518Z",
     "iopub.status.idle": "2020-10-18T14:32:31.968587Z",
     "shell.execute_reply": "2020-10-18T14:32:31.976328Z"
    },
    "papermill": {
     "duration": 0.72374,
     "end_time": "2020-10-18T14:32:31.976654",
     "exception": false,
     "start_time": "2020-10-18T14:32:31.252914",
     "status": "completed"
    },
    "tags": []
   },
   "outputs": [
    {
     "name": "stderr",
     "output_type": "stream",
     "text": [
      "/opt/conda/lib/python3.7/site-packages/sklearn/model_selection/_search.py:282: UserWarning: The total space of parameters 1 is smaller than n_iter=10. Running 1 iterations. For exhaustive searches, use GridSearchCV.\n",
      "  % (grid_size, self.n_iter, grid_size), UserWarning)\n"
     ]
    },
    {
     "name": "stdout",
     "output_type": "stream",
     "text": [
      "[14:32:31] WARNING: /workspace/src/learner.cc:480: \n",
      "Parameters: { silent } might not be used.\n",
      "\n",
      "  This may not be accurate due to some parameters are only used in language bindings but\n",
      "  passed down to XGBoost core.  Or some parameters are not used but slip through this\n",
      "  verification. Please open an issue if you find above cases.\n",
      "\n",
      "\n",
      "[14:32:31] WARNING: /workspace/src/learner.cc:480: \n",
      "Parameters: { silent } might not be used.\n",
      "\n",
      "  This may not be accurate due to some parameters are only used in language bindings but\n",
      "  passed down to XGBoost core.  Or some parameters are not used but slip through this\n",
      "  verification. Please open an issue if you find above cases.\n",
      "\n",
      "\n",
      "[14:32:31] WARNING: /workspace/src/learner.cc:480: \n",
      "Parameters: { silent } might not be used.\n",
      "\n",
      "  This may not be accurate due to some parameters are only used in language bindings but\n",
      "  passed down to XGBoost core.  Or some parameters are not used but slip through this\n",
      "  verification. Please open an issue if you find above cases.\n",
      "\n",
      "\n",
      "[14:32:31] WARNING: /workspace/src/learner.cc:480: \n",
      "Parameters: { silent } might not be used.\n",
      "\n",
      "  This may not be accurate due to some parameters are only used in language bindings but\n",
      "  passed down to XGBoost core.  Or some parameters are not used but slip through this\n",
      "  verification. Please open an issue if you find above cases.\n",
      "\n",
      "\n",
      "[14:32:31] WARNING: /workspace/src/learner.cc:480: \n",
      "Parameters: { silent } might not be used.\n",
      "\n",
      "  This may not be accurate due to some parameters are only used in language bindings but\n",
      "  passed down to XGBoost core.  Or some parameters are not used but slip through this\n",
      "  verification. Please open an issue if you find above cases.\n",
      "\n",
      "\n",
      "[14:32:31] WARNING: /workspace/src/learner.cc:480: \n",
      "Parameters: { silent } might not be used.\n",
      "\n",
      "  This may not be accurate due to some parameters are only used in language bindings but\n",
      "  passed down to XGBoost core.  Or some parameters are not used but slip through this\n",
      "  verification. Please open an issue if you find above cases.\n",
      "\n",
      "\n"
     ]
    }
   ],
   "source": [
    "xgb = XGBClassifier()\n",
    "parameters = {'nthread':[4], #when use hyperthread, xgboost may become slower\n",
    "              'objective':['binary:logistic'],\n",
    "              'learning_rate': [0.05], #so called `eta` value\n",
    "              'max_depth': [6],\n",
    "              'min_child_weight': [11],\n",
    "              'silent': [1],\n",
    "              'subsample': [0.8],\n",
    "              'colsample_bytree': [0.7],\n",
    "              'n_estimators': [5], #number of trees, change it to 1000 for better results\n",
    "              'missing':[-999],\n",
    "              'seed': [1337]}\n",
    "xg_grid = RandomizedSearchCV(xgb, parameters, scoring='accuracy', cv=5, random_state=42)\n",
    "_ = xg_grid.fit(X_train,y_train)"
   ]
  },
  {
   "cell_type": "code",
   "execution_count": 49,
   "metadata": {
    "execution": {
     "iopub.execute_input": "2020-10-18T14:32:32.294917Z",
     "iopub.status.busy": "2020-10-18T14:32:32.282186Z",
     "iopub.status.idle": "2020-10-18T14:32:32.298729Z",
     "shell.execute_reply": "2020-10-18T14:32:32.297710Z"
    },
    "papermill": {
     "duration": 0.111,
     "end_time": "2020-10-18T14:32:32.298924",
     "exception": false,
     "start_time": "2020-10-18T14:32:32.187924",
     "status": "completed"
    },
    "tags": []
   },
   "outputs": [
    {
     "name": "stdout",
     "output_type": "stream",
     "text": [
      "XGBoost Classifier results :\n",
      "   -   Accuracy on the train set : 82.58%\n",
      "   -   Accuracy on the test set : 75.98%\n"
     ]
    }
   ],
   "source": [
    "train_preds = xg_grid.predict(X_train)\n",
    "test_preds = xg_grid.predict(X_test)\n",
    "print(\"XGBoost Classifier results :\")\n",
    "print(\"   -   Accuracy on the train set : {:.2f}%\".format(accuracy_score(train_preds, y_train)*100))\n",
    "train_accuracies['XGBoost Classifier'] = accuracy_score(train_preds, y_train)*100\n",
    "print(\"   -   Accuracy on the test set : {:.2f}%\".format(accuracy_score(test_preds, y_test)*100))\n",
    "test_accuracies['XGBoost Classifier'] = accuracy_score(test_preds, y_test)*100"
   ]
  },
  {
   "cell_type": "code",
   "execution_count": 50,
   "metadata": {
    "execution": {
     "iopub.execute_input": "2020-10-18T14:32:32.536789Z",
     "iopub.status.busy": "2020-10-18T14:32:32.535684Z",
     "iopub.status.idle": "2020-10-18T14:32:41.929669Z",
     "shell.execute_reply": "2020-10-18T14:32:41.931355Z"
    },
    "papermill": {
     "duration": 9.51362,
     "end_time": "2020-10-18T14:32:41.931787",
     "exception": false,
     "start_time": "2020-10-18T14:32:32.418167",
     "status": "completed"
    },
    "tags": []
   },
   "outputs": [],
   "source": [
    "model = lgb.LGBMClassifier()\n",
    "param_grid = {'n_estimators': [400, 700, 1000],\n",
    "    'colsample_bytree': [0.7, 0.8],\n",
    "    'max_depth': [15,20,25],\n",
    "    'num_leaves': [50, 100, 200],\n",
    "    'reg_alpha': [1.1, 1.2, 1.3],\n",
    "    'reg_lambda': [1.1, 1.2, 1.3],\n",
    "    'min_split_gain': [0.3, 0.4],\n",
    "    'subsample': [0.7, 0.8, 0.9],\n",
    "    'subsample_freq': [20]}\n",
    "lg_grid = RandomizedSearchCV(model, param_grid, scoring='accuracy', cv=5, random_state=42)\n",
    "_ = lg_grid.fit(X_train,y_train)"
   ]
  },
  {
   "cell_type": "code",
   "execution_count": 51,
   "metadata": {
    "execution": {
     "iopub.execute_input": "2020-10-18T14:32:42.238755Z",
     "iopub.status.busy": "2020-10-18T14:32:42.235422Z",
     "iopub.status.idle": "2020-10-18T14:32:42.267657Z",
     "shell.execute_reply": "2020-10-18T14:32:42.268920Z"
    },
    "papermill": {
     "duration": 0.122104,
     "end_time": "2020-10-18T14:32:42.269161",
     "exception": false,
     "start_time": "2020-10-18T14:32:42.147057",
     "status": "completed"
    },
    "tags": []
   },
   "outputs": [
    {
     "name": "stdout",
     "output_type": "stream",
     "text": [
      "lightgbm Classifier results :\n",
      "   -   Accuracy on the train set : 86.52%\n",
      "   -   Accuracy on the test set : 80.45%\n"
     ]
    }
   ],
   "source": [
    "train_preds = lg_grid.predict(X_train)\n",
    "test_preds = lg_grid.predict(X_test)\n",
    "print(\"lightgbm Classifier results :\")\n",
    "print(\"   -   Accuracy on the train set : {:.2f}%\".format(accuracy_score(train_preds, y_train)*100))\n",
    "train_accuracies['lightgbm Classifier'] = accuracy_score(train_preds, y_train)*100\n",
    "print(\"   -   Accuracy on the test set : {:.2f}%\".format(accuracy_score(test_preds, y_test)*100))\n",
    "test_accuracies['lightgbm Classifier'] = accuracy_score(test_preds, y_test)*100"
   ]
  },
  {
   "cell_type": "code",
   "execution_count": 52,
   "metadata": {
    "execution": {
     "iopub.execute_input": "2020-10-18T14:32:42.584752Z",
     "iopub.status.busy": "2020-10-18T14:32:42.583484Z",
     "iopub.status.idle": "2020-10-18T14:32:42.831105Z",
     "shell.execute_reply": "2020-10-18T14:32:42.831775Z"
    },
    "papermill": {
     "duration": 0.341499,
     "end_time": "2020-10-18T14:32:42.831948",
     "exception": false,
     "start_time": "2020-10-18T14:32:42.490449",
     "status": "completed"
    },
    "tags": []
   },
   "outputs": [
    {
     "data": {
      "image/png": "[encoded data removed]",
      "text/plain": [
       "<Figure size 1008x720 with 1 Axes>"
      ]
     },
     "metadata": {
      "needs_background": "light"
     },
     "output_type": "display_data"
    }
   ],
   "source": [
    "ind = np.arange(7)\n",
    "width = 0.27\n",
    "\n",
    "fig = plt.figure(figsize=(14,10))\n",
    "ax = fig.add_subplot(111)\n",
    "\n",
    "rects1 = ax.bar(ind, list(train_accuracies.values()), width, color='b')\n",
    "rects2 = ax.bar(ind+width, list(test_accuracies.values()), width, color='g')\n",
    "\n",
    "ax.set_ylabel('Accuracy Score (%)')\n",
    "ax.set_xticks(ind+width)\n",
    "ax.set_xticklabels( ('Logistic Regression', 'Support Vector Classifier', 'K-Neighbors Classifier', 'Random Forest Classifier', 'Decision Tree Classifier'\n",
    "                    , 'XGBoost Classifier', 'lightgbm Classifier') )\n",
    "ax.legend((rects1[0], rects2[0]), ('Train Accuracy', 'Test Accuracy'))\n",
    "\n",
    "plt.ylim((66,90))\n",
    "plt.show()"
   ]
  },
  {
   "cell_type": "code",
   "execution_count": 53,
   "metadata": {
    "execution": {
     "iopub.execute_input": "2020-10-18T14:32:43.027077Z",
     "iopub.status.busy": "2020-10-18T14:32:43.025793Z",
     "iopub.status.idle": "2020-10-18T14:32:43.125349Z",
     "shell.execute_reply": "2020-10-18T14:32:43.127064Z"
    },
    "papermill": {
     "duration": 0.203701,
     "end_time": "2020-10-18T14:32:43.127297",
     "exception": false,
     "start_time": "2020-10-18T14:32:42.923596",
     "status": "completed"
    },
    "tags": []
   },
   "outputs": [],
   "source": [
    "classifiers = [lgr_grid, svc_grid, knn_grid, rf_grid, dt_grid, xg_grid, lg_grid]\n",
    "result_table = pd.DataFrame(columns=['fpr','tpr','auc'])\n",
    "for clf in classifiers :\n",
    "  if clf in [rf_grid, knn_grid, dt_grid,xg_grid , lg_grid] :\n",
    "    y_score = clf.predict_proba(X_test)[::,1]\n",
    "  else :\n",
    "    y_score = clf.decision_function(X_test)\n",
    "  fpr, tpr, _ = roc_curve(y_test,  y_score)\n",
    "  auc = roc_auc_score(y_test, y_score)\n",
    "  result_table = result_table.append({'fpr':fpr, \n",
    "                                      'tpr':tpr, \n",
    "                                      'auc':auc}, ignore_index=True)\n",
    "result_table.index = ['Logistic Regression', 'Support Vector Classifier', 'K-Neighbors Classifier', 'Random Forest Classifier', 'Decision Tree Classifier'\n",
    "                    , 'XGBoost Classifier', 'lightgbm Classifier']"
   ]
  },
  {
   "cell_type": "code",
   "execution_count": 54,
   "metadata": {
    "execution": {
     "iopub.execute_input": "2020-10-18T14:32:43.383295Z",
     "iopub.status.busy": "2020-10-18T14:32:43.382084Z",
     "iopub.status.idle": "2020-10-18T14:32:43.694653Z",
     "shell.execute_reply": "2020-10-18T14:32:43.694002Z"
    },
    "papermill": {
     "duration": 0.427066,
     "end_time": "2020-10-18T14:32:43.694792",
     "exception": false,
     "start_time": "2020-10-18T14:32:43.267726",
     "status": "completed"
    },
    "tags": []
   },
   "outputs": [
    {
     "data": {
      "image/png": "[encoded data removed]",
      "text/plain": [
       "<Figure size 1008x576 with 1 Axes>"
      ]
     },
     "metadata": {
      "needs_background": "light"
     },
     "output_type": "display_data"
    }
   ],
   "source": [
    "fig = plt.figure(figsize=(14,8))\n",
    "\n",
    "for i in result_table.index:\n",
    "    plt.plot(result_table.loc[i]['fpr'], \n",
    "             result_table.loc[i]['tpr'], \n",
    "             label=\"{} : {:.2f}%\".format(i, result_table.loc[i]['auc']*100))\n",
    "    \n",
    "plt.plot([0,1], [0,1], color='orange', linestyle='--')\n",
    "\n",
    "plt.xticks(np.arange(0.0, 1.1, step=0.1))\n",
    "plt.xlabel(\"False Positive Rate\", fontsize=15)\n",
    "\n",
    "plt.yticks(np.arange(0.0, 1.1, step=0.1))\n",
    "plt.ylabel(\"True Positive Rate\", fontsize=15)\n",
    "\n",
    "plt.title('ROC Curve Analysis', fontweight='bold', fontsize=15)\n",
    "plt.legend(prop={'size':13}, loc='lower right', title='AUC Scores')\n",
    "\n",
    "plt.show()"
   ]
  },
  {
   "cell_type": "code",
   "execution_count": 55,
   "metadata": {
    "execution": {
     "iopub.execute_input": "2020-10-18T14:32:43.872379Z",
     "iopub.status.busy": "2020-10-18T14:32:43.871417Z",
     "iopub.status.idle": "2020-10-18T14:32:43.876208Z",
     "shell.execute_reply": "2020-10-18T14:32:43.875570Z"
    },
    "papermill": {
     "duration": 0.095801,
     "end_time": "2020-10-18T14:32:43.876334",
     "exception": false,
     "start_time": "2020-10-18T14:32:43.780533",
     "status": "completed"
    },
    "tags": []
   },
   "outputs": [],
   "source": [
    "test['Fare'].fillna(test['Fare'].mean(), inplace = True)"
   ]
  },
  {
   "cell_type": "code",
   "execution_count": 56,
   "metadata": {
    "execution": {
     "iopub.execute_input": "2020-10-18T14:32:44.118865Z",
     "iopub.status.busy": "2020-10-18T14:32:44.090124Z",
     "iopub.status.idle": "2020-10-18T14:32:44.128436Z",
     "shell.execute_reply": "2020-10-18T14:32:44.127822Z"
    },
    "papermill": {
     "duration": 0.166267,
     "end_time": "2020-10-18T14:32:44.128589",
     "exception": false,
     "start_time": "2020-10-18T14:32:43.962322",
     "status": "completed"
    },
    "tags": []
   },
   "outputs": [],
   "source": [
    "test=pre(test)"
   ]
  },
  {
   "cell_type": "code",
   "execution_count": 57,
   "metadata": {
    "execution": {
     "iopub.execute_input": "2020-10-18T14:32:44.307262Z",
     "iopub.status.busy": "2020-10-18T14:32:44.306341Z",
     "iopub.status.idle": "2020-10-18T14:32:44.310949Z",
     "shell.execute_reply": "2020-10-18T14:32:44.310344Z"
    },
    "papermill": {
     "duration": 0.096946,
     "end_time": "2020-10-18T14:32:44.311068",
     "exception": false,
     "start_time": "2020-10-18T14:32:44.214122",
     "status": "completed"
    },
    "tags": []
   },
   "outputs": [],
   "source": [
    "test['Sex'] = le2.transform(test['Sex'])\n",
    "test['Cabin'] = le1.transform(test['Cabin'])"
   ]
  },
  {
   "cell_type": "code",
   "execution_count": 58,
   "metadata": {
    "execution": {
     "iopub.execute_input": "2020-10-18T14:32:44.498833Z",
     "iopub.status.busy": "2020-10-18T14:32:44.497540Z",
     "iopub.status.idle": "2020-10-18T14:32:44.502090Z",
     "shell.execute_reply": "2020-10-18T14:32:44.502752Z"
    },
    "papermill": {
     "duration": 0.106947,
     "end_time": "2020-10-18T14:32:44.502920",
     "exception": false,
     "start_time": "2020-10-18T14:32:44.395973",
     "status": "completed"
    },
    "tags": []
   },
   "outputs": [
    {
     "data": {
      "text/html": [
       "<div>\n",
       "<style scoped>\n",
       "    .dataframe tbody tr th:only-of-type {\n",
       "        vertical-align: middle;\n",
       "    }\n",
       "\n",
       "    .dataframe tbody tr th {\n",
       "        vertical-align: top;\n",
       "    }\n",
       "\n",
       "    .dataframe thead th {\n",
       "        text-align: right;\n",
       "    }\n",
       "</style>\n",
       "<table border=\"1\" class=\"dataframe\">\n",
       "  <thead>\n",
       "    <tr style=\"text-align: right;\">\n",
       "      <th></th>\n",
       "      <th>Pclass</th>\n",
       "      <th>Sex</th>\n",
       "      <th>Cabin</th>\n",
       "      <th>FamSize</th>\n",
       "      <th>Embarked_Q</th>\n",
       "      <th>Embarked_S</th>\n",
       "      <th>Title_Miss</th>\n",
       "      <th>Title_Mr</th>\n",
       "      <th>Title_Mrs</th>\n",
       "      <th>Title_Others</th>\n",
       "      <th>log(Fare)+1</th>\n",
       "      <th>log(Age)+1</th>\n",
       "    </tr>\n",
       "  </thead>\n",
       "  <tbody>\n",
       "    <tr>\n",
       "      <th>0</th>\n",
       "      <td>3</td>\n",
       "      <td>1</td>\n",
       "      <td>8</td>\n",
       "      <td>1</td>\n",
       "      <td>1</td>\n",
       "      <td>0</td>\n",
       "      <td>0</td>\n",
       "      <td>1</td>\n",
       "      <td>0</td>\n",
       "      <td>0</td>\n",
       "      <td>2.178064</td>\n",
       "      <td>3.569533</td>\n",
       "    </tr>\n",
       "    <tr>\n",
       "      <th>1</th>\n",
       "      <td>3</td>\n",
       "      <td>0</td>\n",
       "      <td>8</td>\n",
       "      <td>2</td>\n",
       "      <td>0</td>\n",
       "      <td>1</td>\n",
       "      <td>0</td>\n",
       "      <td>0</td>\n",
       "      <td>1</td>\n",
       "      <td>0</td>\n",
       "      <td>2.079442</td>\n",
       "      <td>3.871201</td>\n",
       "    </tr>\n",
       "    <tr>\n",
       "      <th>2</th>\n",
       "      <td>2</td>\n",
       "      <td>1</td>\n",
       "      <td>8</td>\n",
       "      <td>1</td>\n",
       "      <td>1</td>\n",
       "      <td>0</td>\n",
       "      <td>0</td>\n",
       "      <td>1</td>\n",
       "      <td>0</td>\n",
       "      <td>0</td>\n",
       "      <td>2.369075</td>\n",
       "      <td>4.143135</td>\n",
       "    </tr>\n",
       "    <tr>\n",
       "      <th>3</th>\n",
       "      <td>3</td>\n",
       "      <td>1</td>\n",
       "      <td>8</td>\n",
       "      <td>1</td>\n",
       "      <td>0</td>\n",
       "      <td>1</td>\n",
       "      <td>0</td>\n",
       "      <td>1</td>\n",
       "      <td>0</td>\n",
       "      <td>0</td>\n",
       "      <td>2.268252</td>\n",
       "      <td>3.332205</td>\n",
       "    </tr>\n",
       "    <tr>\n",
       "      <th>4</th>\n",
       "      <td>3</td>\n",
       "      <td>0</td>\n",
       "      <td>8</td>\n",
       "      <td>3</td>\n",
       "      <td>0</td>\n",
       "      <td>1</td>\n",
       "      <td>0</td>\n",
       "      <td>0</td>\n",
       "      <td>1</td>\n",
       "      <td>0</td>\n",
       "      <td>2.586824</td>\n",
       "      <td>3.135494</td>\n",
       "    </tr>\n",
       "  </tbody>\n",
       "</table>\n",
       "</div>"
      ],
      "text/plain": [
       "   Pclass  Sex  Cabin  FamSize  Embarked_Q  Embarked_S  Title_Miss  Title_Mr  \\\n",
       "0       3    1      8        1           1           0           0         1   \n",
       "1       3    0      8        2           0           1           0         0   \n",
       "2       2    1      8        1           1           0           0         1   \n",
       "3       3    1      8        1           0           1           0         1   \n",
       "4       3    0      8        3           0           1           0         0   \n",
       "\n",
       "   Title_Mrs  Title_Others  log(Fare)+1  log(Age)+1  \n",
       "0          0             0     2.178064    3.569533  \n",
       "1          1             0     2.079442    3.871201  \n",
       "2          0             0     2.369075    4.143135  \n",
       "3          0             0     2.268252    3.332205  \n",
       "4          1             0     2.586824    3.135494  "
      ]
     },
     "execution_count": 58,
     "metadata": {},
     "output_type": "execute_result"
    }
   ],
   "source": [
    "test.head()"
   ]
  },
  {
   "cell_type": "code",
   "execution_count": 59,
   "metadata": {
    "execution": {
     "iopub.execute_input": "2020-10-18T14:32:44.690871Z",
     "iopub.status.busy": "2020-10-18T14:32:44.689778Z",
     "iopub.status.idle": "2020-10-18T14:32:44.707308Z",
     "shell.execute_reply": "2020-10-18T14:32:44.706601Z"
    },
    "papermill": {
     "duration": 0.114341,
     "end_time": "2020-10-18T14:32:44.707443",
     "exception": false,
     "start_time": "2020-10-18T14:32:44.593102",
     "status": "completed"
    },
    "tags": []
   },
   "outputs": [
    {
     "data": {
      "text/html": [
       "<div>\n",
       "<style scoped>\n",
       "    .dataframe tbody tr th:only-of-type {\n",
       "        vertical-align: middle;\n",
       "    }\n",
       "\n",
       "    .dataframe tbody tr th {\n",
       "        vertical-align: top;\n",
       "    }\n",
       "\n",
       "    .dataframe thead th {\n",
       "        text-align: right;\n",
       "    }\n",
       "</style>\n",
       "<table border=\"1\" class=\"dataframe\">\n",
       "  <thead>\n",
       "    <tr style=\"text-align: right;\">\n",
       "      <th></th>\n",
       "      <th>skew</th>\n",
       "    </tr>\n",
       "  </thead>\n",
       "  <tbody>\n",
       "    <tr>\n",
       "      <th>FamSize</th>\n",
       "      <td>3.157161</td>\n",
       "    </tr>\n",
       "    <tr>\n",
       "      <th>log(Fare)+1</th>\n",
       "      <td>0.855152</td>\n",
       "    </tr>\n",
       "    <tr>\n",
       "      <th>Pclass</th>\n",
       "      <td>-0.532252</td>\n",
       "    </tr>\n",
       "    <tr>\n",
       "      <th>Sex</th>\n",
       "      <td>-0.566947</td>\n",
       "    </tr>\n",
       "    <tr>\n",
       "      <th>Cabin</th>\n",
       "      <td>-1.589891</td>\n",
       "    </tr>\n",
       "    <tr>\n",
       "      <th>log(Age)+1</th>\n",
       "      <td>-2.395039</td>\n",
       "    </tr>\n",
       "  </tbody>\n",
       "</table>\n",
       "</div>"
      ],
      "text/plain": [
       "                 skew\n",
       "FamSize      3.157161\n",
       "log(Fare)+1  0.855152\n",
       "Pclass      -0.532252\n",
       "Sex         -0.566947\n",
       "Cabin       -1.589891\n",
       "log(Age)+1  -2.395039"
      ]
     },
     "execution_count": 59,
     "metadata": {},
     "output_type": "execute_result"
    }
   ],
   "source": [
    "features = test\n",
    "numeric_dtypes = ['int16', 'int32', 'int64', 'float16', 'float32', 'float64']\n",
    "numerics2 = []\n",
    "for i in features.columns:\n",
    "    if features[i].dtype in numeric_dtypes: \n",
    "        numerics2.append(i)\n",
    "\n",
    "skew_features = features[numerics2].apply(lambda x: skew(x)).sort_values(ascending=False)\n",
    "skews = pd.DataFrame({'skew':skew_features})\n",
    "skews"
   ]
  },
  {
   "cell_type": "code",
   "execution_count": 60,
   "metadata": {
    "execution": {
     "iopub.execute_input": "2020-10-18T14:32:44.893374Z",
     "iopub.status.busy": "2020-10-18T14:32:44.892133Z",
     "iopub.status.idle": "2020-10-18T14:32:44.922006Z",
     "shell.execute_reply": "2020-10-18T14:32:44.922690Z"
    },
    "papermill": {
     "duration": 0.127058,
     "end_time": "2020-10-18T14:32:44.922867",
     "exception": false,
     "start_time": "2020-10-18T14:32:44.795809",
     "status": "completed"
    },
    "tags": []
   },
   "outputs": [
    {
     "data": {
      "text/html": [
       "<div>\n",
       "<style scoped>\n",
       "    .dataframe tbody tr th:only-of-type {\n",
       "        vertical-align: middle;\n",
       "    }\n",
       "\n",
       "    .dataframe tbody tr th {\n",
       "        vertical-align: top;\n",
       "    }\n",
       "\n",
       "    .dataframe thead th {\n",
       "        text-align: right;\n",
       "    }\n",
       "</style>\n",
       "<table border=\"1\" class=\"dataframe\">\n",
       "  <thead>\n",
       "    <tr style=\"text-align: right;\">\n",
       "      <th></th>\n",
       "      <th>skew</th>\n",
       "    </tr>\n",
       "  </thead>\n",
       "  <tbody>\n",
       "    <tr>\n",
       "      <th>FamSize</th>\n",
       "      <td>0.965689</td>\n",
       "    </tr>\n",
       "    <tr>\n",
       "      <th>log(Fare)+1</th>\n",
       "      <td>0.445863</td>\n",
       "    </tr>\n",
       "    <tr>\n",
       "      <th>Pclass</th>\n",
       "      <td>-0.532252</td>\n",
       "    </tr>\n",
       "    <tr>\n",
       "      <th>Sex</th>\n",
       "      <td>-0.566947</td>\n",
       "    </tr>\n",
       "    <tr>\n",
       "      <th>Cabin</th>\n",
       "      <td>-1.589891</td>\n",
       "    </tr>\n",
       "    <tr>\n",
       "      <th>log(Age)+1</th>\n",
       "      <td>-2.395039</td>\n",
       "    </tr>\n",
       "  </tbody>\n",
       "</table>\n",
       "</div>"
      ],
      "text/plain": [
       "                 skew\n",
       "FamSize      0.965689\n",
       "log(Fare)+1  0.445863\n",
       "Pclass      -0.532252\n",
       "Sex         -0.566947\n",
       "Cabin       -1.589891\n",
       "log(Age)+1  -2.395039"
      ]
     },
     "execution_count": 60,
     "metadata": {},
     "output_type": "execute_result"
    }
   ],
   "source": [
    "high_skew = skew_features[skew_features > 0.5]\n",
    "high_skew = high_skew\n",
    "skew_index = high_skew.index\n",
    "\n",
    "for i in skew_index:\n",
    "    features[i]= boxcox1p(features[i], boxcox_normmax(features[i]+1))\n",
    "\n",
    "        \n",
    "skew_features2 = features[numerics2].apply(lambda x: skew(x)).sort_values(ascending=False)\n",
    "skews2 = pd.DataFrame({'skew':skew_features2})\n",
    "skews2"
   ]
  },
  {
   "cell_type": "code",
   "execution_count": 61,
   "metadata": {
    "execution": {
     "iopub.execute_input": "2020-10-18T14:32:45.120122Z",
     "iopub.status.busy": "2020-10-18T14:32:45.118839Z",
     "iopub.status.idle": "2020-10-18T14:32:45.123393Z",
     "shell.execute_reply": "2020-10-18T14:32:45.124038Z"
    },
    "papermill": {
     "duration": 0.111478,
     "end_time": "2020-10-18T14:32:45.124214",
     "exception": false,
     "start_time": "2020-10-18T14:32:45.012736",
     "status": "completed"
    },
    "tags": []
   },
   "outputs": [
    {
     "data": {
      "text/html": [
       "<div>\n",
       "<style scoped>\n",
       "    .dataframe tbody tr th:only-of-type {\n",
       "        vertical-align: middle;\n",
       "    }\n",
       "\n",
       "    .dataframe tbody tr th {\n",
       "        vertical-align: top;\n",
       "    }\n",
       "\n",
       "    .dataframe thead th {\n",
       "        text-align: right;\n",
       "    }\n",
       "</style>\n",
       "<table border=\"1\" class=\"dataframe\">\n",
       "  <thead>\n",
       "    <tr style=\"text-align: right;\">\n",
       "      <th></th>\n",
       "      <th>Pclass</th>\n",
       "      <th>Sex</th>\n",
       "      <th>Cabin</th>\n",
       "      <th>FamSize</th>\n",
       "      <th>Embarked_Q</th>\n",
       "      <th>Embarked_S</th>\n",
       "      <th>Title_Miss</th>\n",
       "      <th>Title_Mr</th>\n",
       "      <th>Title_Mrs</th>\n",
       "      <th>Title_Others</th>\n",
       "      <th>log(Fare)+1</th>\n",
       "      <th>log(Age)+1</th>\n",
       "    </tr>\n",
       "  </thead>\n",
       "  <tbody>\n",
       "    <tr>\n",
       "      <th>0</th>\n",
       "      <td>3</td>\n",
       "      <td>1</td>\n",
       "      <td>8</td>\n",
       "      <td>0.541888</td>\n",
       "      <td>1</td>\n",
       "      <td>0</td>\n",
       "      <td>0</td>\n",
       "      <td>1</td>\n",
       "      <td>0</td>\n",
       "      <td>0</td>\n",
       "      <td>1.572935</td>\n",
       "      <td>3.569533</td>\n",
       "    </tr>\n",
       "    <tr>\n",
       "      <th>1</th>\n",
       "      <td>3</td>\n",
       "      <td>0</td>\n",
       "      <td>8</td>\n",
       "      <td>0.751237</td>\n",
       "      <td>0</td>\n",
       "      <td>1</td>\n",
       "      <td>0</td>\n",
       "      <td>0</td>\n",
       "      <td>1</td>\n",
       "      <td>0</td>\n",
       "      <td>1.516695</td>\n",
       "      <td>3.871201</td>\n",
       "    </tr>\n",
       "    <tr>\n",
       "      <th>2</th>\n",
       "      <td>2</td>\n",
       "      <td>1</td>\n",
       "      <td>8</td>\n",
       "      <td>0.541888</td>\n",
       "      <td>1</td>\n",
       "      <td>0</td>\n",
       "      <td>0</td>\n",
       "      <td>1</td>\n",
       "      <td>0</td>\n",
       "      <td>0</td>\n",
       "      <td>1.679467</td>\n",
       "      <td>4.143135</td>\n",
       "    </tr>\n",
       "    <tr>\n",
       "      <th>3</th>\n",
       "      <td>3</td>\n",
       "      <td>1</td>\n",
       "      <td>8</td>\n",
       "      <td>0.541888</td>\n",
       "      <td>0</td>\n",
       "      <td>1</td>\n",
       "      <td>0</td>\n",
       "      <td>1</td>\n",
       "      <td>0</td>\n",
       "      <td>0</td>\n",
       "      <td>1.623617</td>\n",
       "      <td>3.332205</td>\n",
       "    </tr>\n",
       "    <tr>\n",
       "      <th>4</th>\n",
       "      <td>3</td>\n",
       "      <td>0</td>\n",
       "      <td>8</td>\n",
       "      <td>0.865873</td>\n",
       "      <td>0</td>\n",
       "      <td>1</td>\n",
       "      <td>0</td>\n",
       "      <td>0</td>\n",
       "      <td>1</td>\n",
       "      <td>0</td>\n",
       "      <td>1.797345</td>\n",
       "      <td>3.135494</td>\n",
       "    </tr>\n",
       "  </tbody>\n",
       "</table>\n",
       "</div>"
      ],
      "text/plain": [
       "   Pclass  Sex  Cabin   FamSize  Embarked_Q  Embarked_S  Title_Miss  Title_Mr  \\\n",
       "0       3    1      8  0.541888           1           0           0         1   \n",
       "1       3    0      8  0.751237           0           1           0         0   \n",
       "2       2    1      8  0.541888           1           0           0         1   \n",
       "3       3    1      8  0.541888           0           1           0         1   \n",
       "4       3    0      8  0.865873           0           1           0         0   \n",
       "\n",
       "   Title_Mrs  Title_Others  log(Fare)+1  log(Age)+1  \n",
       "0          0             0     1.572935    3.569533  \n",
       "1          1             0     1.516695    3.871201  \n",
       "2          0             0     1.679467    4.143135  \n",
       "3          0             0     1.623617    3.332205  \n",
       "4          1             0     1.797345    3.135494  "
      ]
     },
     "execution_count": 61,
     "metadata": {},
     "output_type": "execute_result"
    }
   ],
   "source": [
    "test.head()"
   ]
  },
  {
   "cell_type": "code",
   "execution_count": 62,
   "metadata": {
    "execution": {
     "iopub.execute_input": "2020-10-18T14:32:45.320895Z",
     "iopub.status.busy": "2020-10-18T14:32:45.319611Z",
     "iopub.status.idle": "2020-10-18T14:32:45.325396Z",
     "shell.execute_reply": "2020-10-18T14:32:45.324798Z"
    },
    "papermill": {
     "duration": 0.103326,
     "end_time": "2020-10-18T14:32:45.325533",
     "exception": false,
     "start_time": "2020-10-18T14:32:45.222207",
     "status": "completed"
    },
    "tags": []
   },
   "outputs": [
    {
     "data": {
      "text/plain": [
       "Pclass          0\n",
       "Sex             0\n",
       "Cabin           0\n",
       "FamSize         0\n",
       "Embarked_Q      0\n",
       "Embarked_S      0\n",
       "Title_Miss      0\n",
       "Title_Mr        0\n",
       "Title_Mrs       0\n",
       "Title_Others    0\n",
       "log(Fare)+1     0\n",
       "log(Age)+1      0\n",
       "dtype: int64"
      ]
     },
     "execution_count": 62,
     "metadata": {},
     "output_type": "execute_result"
    }
   ],
   "source": [
    "test.isnull().sum()"
   ]
  },
  {
   "cell_type": "code",
   "execution_count": 63,
   "metadata": {
    "execution": {
     "iopub.execute_input": "2020-10-18T14:32:45.512290Z",
     "iopub.status.busy": "2020-10-18T14:32:45.511089Z",
     "iopub.status.idle": "2020-10-18T14:32:45.514228Z",
     "shell.execute_reply": "2020-10-18T14:32:45.514830Z"
    },
    "papermill": {
     "duration": 0.100741,
     "end_time": "2020-10-18T14:32:45.515010",
     "exception": false,
     "start_time": "2020-10-18T14:32:45.414269",
     "status": "completed"
    },
    "tags": []
   },
   "outputs": [],
   "source": [
    "pred = lgr_grid.predict(test)"
   ]
  },
  {
   "cell_type": "code",
   "execution_count": 64,
   "metadata": {
    "execution": {
     "iopub.execute_input": "2020-10-18T14:32:45.706111Z",
     "iopub.status.busy": "2020-10-18T14:32:45.705011Z",
     "iopub.status.idle": "2020-10-18T14:32:45.724164Z",
     "shell.execute_reply": "2020-10-18T14:32:45.723574Z"
    },
    "papermill": {
     "duration": 0.116195,
     "end_time": "2020-10-18T14:32:45.724289",
     "exception": false,
     "start_time": "2020-10-18T14:32:45.608094",
     "status": "completed"
    },
    "tags": []
   },
   "outputs": [
    {
     "name": "stdout",
     "output_type": "stream",
     "text": [
      "Saved file: My Results.csv\n"
     ]
    }
   ],
   "source": [
    "output = pd.DataFrame({'PassengerId': g ,'Survived': pred})\n",
    "\n",
    "filename = 'My Results.csv'\n",
    "\n",
    "output.to_csv(filename,index=False)\n",
    "\n",
    "print('Saved file: ' + filename)"
   ]
  },
  {
   "cell_type": "code",
   "execution_count": 65,
   "metadata": {
    "execution": {
     "iopub.execute_input": "2020-10-18T14:32:45.912637Z",
     "iopub.status.busy": "2020-10-18T14:32:45.911518Z",
     "iopub.status.idle": "2020-10-18T14:32:45.919995Z",
     "shell.execute_reply": "2020-10-18T14:32:45.919390Z"
    },
    "papermill": {
     "duration": 0.106235,
     "end_time": "2020-10-18T14:32:45.920120",
     "exception": false,
     "start_time": "2020-10-18T14:32:45.813885",
     "status": "completed"
    },
    "tags": []
   },
   "outputs": [
    {
     "data": {
      "text/html": [
       "<div>\n",
       "<style scoped>\n",
       "    .dataframe tbody tr th:only-of-type {\n",
       "        vertical-align: middle;\n",
       "    }\n",
       "\n",
       "    .dataframe tbody tr th {\n",
       "        vertical-align: top;\n",
       "    }\n",
       "\n",
       "    .dataframe thead th {\n",
       "        text-align: right;\n",
       "    }\n",
       "</style>\n",
       "<table border=\"1\" class=\"dataframe\">\n",
       "  <thead>\n",
       "    <tr style=\"text-align: right;\">\n",
       "      <th></th>\n",
       "      <th>PassengerId</th>\n",
       "      <th>Survived</th>\n",
       "    </tr>\n",
       "  </thead>\n",
       "  <tbody>\n",
       "    <tr>\n",
       "      <th>0</th>\n",
       "      <td>892</td>\n",
       "      <td>0</td>\n",
       "    </tr>\n",
       "    <tr>\n",
       "      <th>1</th>\n",
       "      <td>893</td>\n",
       "      <td>1</td>\n",
       "    </tr>\n",
       "    <tr>\n",
       "      <th>2</th>\n",
       "      <td>894</td>\n",
       "      <td>0</td>\n",
       "    </tr>\n",
       "    <tr>\n",
       "      <th>3</th>\n",
       "      <td>895</td>\n",
       "      <td>0</td>\n",
       "    </tr>\n",
       "    <tr>\n",
       "      <th>4</th>\n",
       "      <td>896</td>\n",
       "      <td>1</td>\n",
       "    </tr>\n",
       "    <tr>\n",
       "      <th>...</th>\n",
       "      <td>...</td>\n",
       "      <td>...</td>\n",
       "    </tr>\n",
       "    <tr>\n",
       "      <th>413</th>\n",
       "      <td>1305</td>\n",
       "      <td>0</td>\n",
       "    </tr>\n",
       "    <tr>\n",
       "      <th>414</th>\n",
       "      <td>1306</td>\n",
       "      <td>1</td>\n",
       "    </tr>\n",
       "    <tr>\n",
       "      <th>415</th>\n",
       "      <td>1307</td>\n",
       "      <td>0</td>\n",
       "    </tr>\n",
       "    <tr>\n",
       "      <th>416</th>\n",
       "      <td>1308</td>\n",
       "      <td>0</td>\n",
       "    </tr>\n",
       "    <tr>\n",
       "      <th>417</th>\n",
       "      <td>1309</td>\n",
       "      <td>0</td>\n",
       "    </tr>\n",
       "  </tbody>\n",
       "</table>\n",
       "<p>418 rows × 2 columns</p>\n",
       "</div>"
      ],
      "text/plain": [
       "     PassengerId  Survived\n",
       "0            892         0\n",
       "1            893         1\n",
       "2            894         0\n",
       "3            895         0\n",
       "4            896         1\n",
       "..           ...       ...\n",
       "413         1305         0\n",
       "414         1306         1\n",
       "415         1307         0\n",
       "416         1308         0\n",
       "417         1309         0\n",
       "\n",
       "[418 rows x 2 columns]"
      ]
     },
     "execution_count": 65,
     "metadata": {},
     "output_type": "execute_result"
    }
   ],
   "source": [
    "output"
   ]
  },
  {
   "cell_type": "code",
   "execution_count": null,
   "metadata": {
    "papermill": {
     "duration": 0.090681,
     "end_time": "2020-10-18T14:32:46.102054",
     "exception": false,
     "start_time": "2020-10-18T14:32:46.011373",
     "status": "completed"
    },
    "tags": []
   },
   "outputs": [],
   "source": []
  }
 ],
 "metadata": {
  "kernelspec": {
   "display_name": "Python 3",
   "language": "python",
   "name": "python3"
  },
  "language_info": {
   "codemirror_mode": {
    "name": "ipython",
    "version": 3
   },
   "file_extension": ".py",
   "mimetype": "text/x-python",
   "name": "python",
   "nbconvert_exporter": "python",
   "pygments_lexer": "ipython3",
   "version": "3.7.6"
  },
  "papermill": {
   "duration": 149.915246,
   "end_time": "2020-10-18T14:32:46.501607",
   "environment_variables": {},
   "exception": null,
   "input_path": "__notebook__.ipynb",
   "output_path": "__notebook__.ipynb",
   "parameters": {},
   "start_time": "2020-10-18T14:30:16.586361",
   "version": "2.1.0"
  }
 },
 "nbformat": 4,
 "nbformat_minor": 4
}
